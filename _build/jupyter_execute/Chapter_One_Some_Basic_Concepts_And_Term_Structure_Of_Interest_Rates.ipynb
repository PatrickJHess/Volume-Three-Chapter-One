{
 "cells": [
  {
   "cell_type": "markdown",
   "metadata": {
    "id": "64joxnxCau6u"
   },
   "source": [
    "\n",
    "<img src='https://docs.google.com/drawings/d/e/2PACX-1vS6qydI5uYdzS6jV_kN6s11CZnsXt8WL5T68xdjJGFnBSfQVZMLJgMCsAY0KhyHvTCnviIu65GBBjI2/pub?w=960&h=720'>"
   ]
  },
  {
   "cell_type": "markdown",
   "metadata": {
    "id": "3q_IfCu456Pk"
   },
   "source": [
    "# **Chapter One Notebook Of Basic Concepts Of Fixed Income**"
   ]
  },
  {
   "cell_type": "markdown",
   "metadata": {
    "id": "3Zim_Eswnyvw"
   },
   "source": [
    "## ***A Road Map***\n",
    "\n",
    "<ul type='dot'>\n",
    "<li><font size=5>Bond Pricing</li>\n",
    "\n",
    "<ul tupe='dot'>\n",
    "  <li>The Present Value Of A Bond</li>\n",
    "  <li>Arbitrage And The Value Of A Bond</li>\n",
    "  <li>Continuous And Discrete Compounding</li>\n",
    "  </ul>\n",
    "<li>NumPy Arrays</li>\n",
    "<ul tupe='dot'>\n",
    "  <li>Element-By-Element Calculations</li>\n",
    "  <li>Creating One- and Two-Dimensional Arrays</li>\n",
    "  <li>Converting NumPy Arrays To Panda DataFrames</li>\n",
    "</ul>\n",
    "<li>Term Structure</li>\n",
    "<ul tupe='dot'>\n",
    "  <li>Spot Rates Of Interest</li>\n",
    "  <li>Forward Rates Of Interest</li>\n",
    "</ul>\n",
    "<li>Calculating The Term Structure</li>\n",
    "<ul tupe='dot'>\n",
    "  <li>Creating A DataFrame From A CSV File</li>\n",
    "  <li>Creating A DataFrame From An Excel File</li>\n",
    "  <li>Creating A DataFrame From An URL Address</li>\n",
    "  <li>Calculating Spot And Forward Rates From T-Bill Prices</li>\n"
   ]
  },
  {
   "cell_type": "markdown",
   "metadata": {
    "id": "sboz94_HV6XH"
   },
   "source": [
    "### Chapter One uses the libraries Pandas and NumPy. The basic usage of these libraries are<br> discussed in two separate notebooks.  The notebook [A Quick Introduction To Pandas](https://patrickjhess.github.io/Introduction-To-Python-For-Financial-Python/An_Introduction_To_Pandas.html)<br> reviews some basic concepts of Pandas.  The notebook [A Quick Introduction To NumPy](https://patrickjhess.github.io/Introduction-To-Python-For-Financial-Python/An_Introduction_To_NumPy.html)<br> does the same for NumPy.\n"
   ]
  },
  {
   "cell_type": "markdown",
   "metadata": {
    "id": "fdZjyT-c1NXL"
   },
   "source": [
    "### ***Python for Bonds and Interest Rates***\n",
    "#### In this chapter, we'll explore bond calculations and interest through the lens of NumPy And Python DataFrames. Powerful tools for engaging bond data. Using Treasury bill data, we'll learn how to create DataFrames and NumPy arrays from CSV files, Excel workbooks. All our data is accessed with external URLs. Our calculations result in the term structure of interest rates on two different data. The chapter concludes with an exercise in which you practice calculating and graphin the term structure of interest rates on your own.\n"
   ]
  },
  {
   "cell_type": "markdown",
   "metadata": {
    "id": "zxZsQPGqP9Jl"
   },
   "source": [
    "### ***Introduction to Bond Pricing***\n",
    "#### This chapter will introduce some fundamental principles of fixed income. These principles include pricing coupon bonds as a portfolio of zero-coupon bonds, the term structure of interest rates, and the relation between spot and forward rates of interest.\n",
    "\n",
    "### ***The Present Value of a Bond***\n",
    "#### Chapter Two of *Basic Financial and Python Concepts* asserted that the value of an asset with certain cash flows equals the present value of its cash flows, as shown in the following equation:\n",
    "\n",
    "$$\\Large Value = \\sum_{t=1}^{T}Cash\\,Flow_t\\times PV(t)$$\n",
    "#### where $\\ T$ is the total number of cash flow periods, and $\\ PV(t)$ is the present-value factor for a certain cash flow in period $t$.\n",
    "\n",
    "\n",
    "#### In finance, equating value with present value is ubiquitous and seems unworthy of much thought. It is, however, a powerful statement that value depends upon the ability to replicate an asset with other assets. Namely, if an asset's cash flow dates and amounts can be replicated by another asset or combinations of assets, the values must be equal. You might call this idea the ***law of one price***&mdash;a concept that is key in all pricing models.\n",
    "\n",
    "### ***Coupon Bonds and Zero-Coupon Bonds***\n",
    "#### Most bonds, but not all, pay fixed coupons in each period and principal at their maturity. The values of coupon bonds are calculated as:\n",
    "\n",
    "\n",
    "$$\\large Coupon\\, Bond= \\sum_{t=1}^{T}Coupon_t\\times PV(t)+ Principal_T\\times PV(T)$$\n",
    "\n",
    "#### Some bonds only repay principal at maturity, or $T$. Because there are no periodic coupon payments, these bonds are appropriately known as zero-coupon bonds. The values of zero-coupon bonds are calculated as:\n",
    "\n",
    "$$\\large Zero\\,Coupon\\, Bond =Principal_T\\times PV(T)$$\n",
    "\n",
    "#### In order to price any bond, it's necessary to know the present value of payments at the relevant dates. If the zero-coupon bond values are known for the relevant dates, the present value of each date can be determined. To do so, divide the value of the zero-coupon bond by its principal, as shown below:\n",
    "\n",
    " $$\\large  PV(t)=\\frac{Zero\\,Coupon\\, Bond_t }{Principal_t}$$\n",
    "\n",
    "#### Each coupon-bond cash flow is equivalent to an investment in a zero-coupon bond. As such, we can replicate a coupon bond with a sequence of zero-coupon bonds: The number of zero-coupon bonds with a maturity of $t$ equals the coupon bond's cash flow at $t$ divided by the zero-coupon bond's principal. For example, consider a $\\$40$ coupon that is paid every six months before maturity. This coupon is valued with a sequence of 0.04 zero-coupon bonds, with a $\\$1,000$ principal and maturities matching the coupon payment dates. The coupon bond's payment at maturity equals 1.040 zero-coupon bonds, with a $\\$1,000$ principal and the same maturity as the coupon bond.\n",
    "\n",
    "#### Further, a coupon bond's value is the sum of all the zero-coupon bond values needed to replicate that bond's cash flows. If the coupon bond and the zero-coupon bonds have the same principal, and all the coupon payments of the coupon bond are equal, the value of the coupon bond is:\n",
    "\n",
    "$$\\large Value = \\sum_{t=1}^{T}Zero\\,Coupon\\,Bond_t\\times\\frac{Coupon}{Principal}+Zero\\,Coupon\\,Bond_T$$\n",
    "\n",
    "#### We define the sum  as:\n",
    "\n",
    "$$\\large S(T) =\\sum_{t=1}^{T}\\frac{Zero\\,Coupon\\,Bond_t}{Principal} = \\sum_{t=1}^{T}PV(t)$$\n",
    "\n",
    "#### And the value of the fixed-coupon bond is composed of two components equaling:\n",
    "\n",
    "\n",
    "$$\\large Value = S(T)\\times Coupon+PV(T)\\times Principal(T)$$\n",
    "\n",
    "### ***Arbitrage and the Value of the Bond***\n",
    "#### Thus far, bond values have been represented as the sum of the zero-coupon bonds' values. But we must consider the zero-coupon bonds' *market prices*&mdash;not their \"theoretical\" values. Will the value relation between zero-coupon and coupon bonds hold if we use the market prices of zero-coupon bonds? To answer that question, let's look at examples where the coupon bond is worth more or less than the sum of the zero-coupon bonds. First, consider a case where the coupon bond's price exceeds the sum of the zero-coupon bond prices:\n",
    "\n",
    " $$\\large Value > S(T)\\times Coupon+PV(T)\\times Principal(T)$$\n",
    "\n",
    "#### If the price of the coupon bond exceeds the sum of the zero-coupon bond prices, the coupon bond can be *shorted*.$^{1}$ The zero-coupon bonds can then be purchased with the proceeds, leaving the investor with identical cash flows for a lower price. Consider if the inequality is reversed:\n",
    "\n",
    " $$\\large Value <  S(T)\\times Coupon+PV(T)\\times Principal(T)$$\n",
    "\n",
    "#### In this case, the *zero-coupon bonds* can be shorted, and the proceeds can be used to buy the coupon bond. This ability to recreate cash flows allows for arbitrage between zero-coupon and coupon bonds; as a result, the coupon bond prices equal the costs of the zero-coupon bonds used to recreate their cash flows. It is the law of one price in action. Whatever the bond prices might have been in theory does not matter. Those prices were ideas&mdash;the market value is a fact.\n",
    "\n",
    "#### This arbitrage relationship is important for deriving the *term of structure of interest rates* and *forward rates*, which we'll examine later in this chapter. These concepts are key to understanding bond pricing as well as some important fixed-income derivatives.\n",
    "\n",
    "\n",
    "\n",
    "---\n",
    "\n",
    "$^{1}$ The mechanics of shorting bonds will be discussed in future chapters."
   ]
  },
  {
   "cell_type": "markdown",
   "metadata": {
    "id": "0ka9SMHSdftx"
   },
   "source": [
    "### ***Continuous and Discrete Compounding***\n",
    "#### For mathematical and computational convenience, our discussion of fixed income and bond pricing will use continuously compounded interest rates. At times, it's appropriate to quote interest rates as discretely compounded rates. To that end, this short aside demonstrates the conversion between continuously and discretely compounded rates.\n",
    "\n",
    "#### Suppose that $R_c$ is the continuously compounded annual interest rate for $T$ periods, and $R_d$ is the discretely compounded annual rate for $T$ periods when compounded $d$ times per year. The conversion of continuously and discretely compounded rates requires that the same values are realized in $T$ periods, shown below:\n",
    "\n",
    "$$\\Large e^{R_c\\times T}  =  (1 + \\frac{R_d}{d})^{d\\times T}$$\n",
    "\n",
    "#### $e$ is Euler's number and is the limit of $(1+\\frac{1}{d})^{d}$ as d goes to infinity or continously compounds.The necessary condition is expressed as an annualized interest rate by taking the $T$ root of both sides of the equation:\n",
    "\n",
    "$$\\Large e^{R_c} = (1 + \\frac{R_d}{d})^{d}$$\n",
    "\n",
    "#### Taking natural logs of the previous equation derives continuously compounded rates from discretely compounded rates:\n",
    "\n",
    "$$\\Large R_c = d\\times ln(1 + \\frac{R_d}{d})$$\n",
    "\n",
    "#### Finally, discretely compounded rates can be derived from continuously compounded rates by dividing both sides by the compounding frequency, or\n",
    "$$\\Large \\frac{R_c}{d} = ln(1 + \\frac{R_d}{d})$$\n",
    "\n",
    "#### and raising Euler's number, $e$, to both sides of the equation:\n",
    "\n",
    "$$\\Large R_d = d\\times (e^\\frac{R_c}{d} - 1)$$\n",
    "\n",
    "#### For instances in which rate conversion is necessary, the above methods are useful knowledge; for this chapter, however, we'll focus on continuously compounded rates.\n",
    "\n"
   ]
  },
  {
   "cell_type": "markdown",
   "metadata": {
    "id": "dwyEoZ4KOAgx"
   },
   "source": [
    "## ***Preparing The Notebook***"
   ]
  },
  {
   "cell_type": "markdown",
   "metadata": {
    "id": "RKvAUzN82dZZ"
   },
   "source": [
    "### ***Importing Libraries And Functions***\n",
    "#### It's good practice to import all required libraries and modules in the first code cell of a notebook. A practice followed here unless attention is being drawn to a new function or module. If a library is already installed, it's imported to the notebook.  If a library is not installed, it is installed  and then imported.\n",
    "\n",
    "#### The standard Python installation includes the first five imports: (<font color='green'>os, sys</font>, <font color='green'>requests</font>, <font color='green'>types</font>, and <font color='green'>datetime</font>).  <font color='green'>os</font> and <font color='green'>sys</font>  facilitate interaction with the operating system.  The <font color='green'>requests</font> module enables sending and retrieving data from external URL addresses; in this notebook, it's specifically used to access files from DropBox. The <font color='green'>types</font> module creates the module from the Python code accessed from DropBox.  Finally <font color='green'>datetime</font> allows for the creation and manipulation of date objects.\n",
    "\n",
    "```\n",
    "import os\n",
    "import sys\n",
    "import requests\n",
    "from types import ModuleType\n",
    "from datetime import date\n",
    "```\n",
    "\n",
    "#### NumPy and Pandas, though not standard Python libraries, are pre-installed in Colab and often in Jupyter notebooks. To ensure availability, a <font color='green'>try </font> and <font color='green'>except </font> block is used for importing them. If the import fails, the libraries are then installed using <font color='green'>pip </font>. The exclamation mark indicates that <font color='green'>pip </font> is running on the machine's console rather than within the notebook. Upon successful import, NumPy and Pandas are aliased as <font color='green'>np</font> and <font color='green'>pd </font>.$^{2}$\n",
    "\n",
    "```\n",
    "try:\n",
    "    import numpy as np\n",
    "except:\n",
    "    !pip install numpy\n",
    "    import numpy as np\n",
    "try:\n",
    "    import pandas as pd\n",
    "except:\n",
    "    !pip install pandas\n",
    "    import pandas as pd\n",
    "```\n",
    "\n",
    "\n",
    "\n",
    "---\n",
    "$^{2}$<a href='https://patrickjhess.github.io/Introduction-To-Python-For-Financial-Python/Control_Statements.html#the-try-and-except'>try and except statements</a>."
   ]
  },
  {
   "cell_type": "code",
   "execution_count": 1,
   "metadata": {
    "id": "ie1z0N5Z2dZb"
   },
   "outputs": [],
   "source": [
    "import os\n",
    "import sys\n",
    "import requests\n",
    "from types import ModuleType\n",
    "try:\n",
    "    import numpy as np\n",
    "except:\n",
    "    !pip install numpy\n",
    "    import numpy as np\n",
    "try:\n",
    "    import pandas as pd\n",
    "except:\n",
    "    !pip install pandas\n",
    "    import pandas as pd"
   ]
  },
  {
   "cell_type": "markdown",
   "metadata": {
    "id": "LFUv5N152w7q"
   },
   "source": [
    "### ***Adding a Custom Module and Importing Functions***\n",
    "\n",
    "#### Now that we've imported our main modules and libraries, we'll access a custom module for our more specific functions. In the below code, the custom module <font color='green'>module_basic_concepts_fixed_income</font> contains functions utilized by this notebook and others in the volume *Basic Concepts of Fixed Income*. This module is accessed from Dropbox using <font color='green'>requests.get()</font>.\n",
    "\n",
    "\n",
    "#### You have the flexibility to choose the module name; in this instance, <font color='green'>module_basic_concepts_fixed_income</font> is assigned to <font color='green'>module_name</font>. Dropbox provides the URL for access. The module is instantiated with <font color='green'>ModuleType</font> (which we imported earlier) using the chosen <font color='green'>module_name</font>. Once created, the module becomes accessible in the Notebook's memory, though it is not added to a drive.\n",
    "```\n",
    "url= 'https://www.dropbox.com/scl/fi/4y5hjxlfphh1ngvbgo77q/\\\n",
    "module_-basic_concepts_fixed_income.py?rlkey=6oxi7mgka42veaat79hcv8boz&st=stuou11h&dl=1'\n",
    "module_name='module_basic_concepts_fixed_income'\n",
    "try:\n",
    "  response=requests.get(url)\n",
    "  module=ModuleType(module_name)\n",
    "\n",
    "```\n",
    "#### The <font color='green'>exec()</font> function below executes the Python code returned by <font color='green'>requests.get()</font>. It assigns functions and variables to <font color='green'>sys.module[module_name]</font>. This makes the module available for use in the Notebook.\n",
    "```\n",
    "exec(response.text,module.__dict__)\n",
    "sys.module[module_name]=module\n",
    "```\n",
    "#### We'll then import two functions from the module: <font color='green'>parent_folder_subfolder</font> and <font color='green'>one_y_axis</font>. The former determines locations for saving and accessing files and can be <a href='https://patrickjhess.github.io/Imported-Functions/parent_folder_subfolder.html#parent-folder-subfolder-is-a-helper-function-for-saving-files-created-by-financial-python'>viewed here</a>. The latter plots calculation results and can be <a href='https://patrickjhess.github.io/Imported-Functions/one_y_axis.html#one-y-axis-is-a-helper-function-for-plotting-graphs-created-by-financial-python'>viewed here</a>.\n",
    "\n",
    "\n",
    "```\n",
    "from basic_concepts_fixed_income import(parent_folder_subfolder,\n",
    "                                       one_y_axis)\n",
    "```\n",
    "\n",
    "#### Our now-complete code is shown in the cell below."
   ]
  },
  {
   "cell_type": "code",
   "execution_count": 2,
   "metadata": {
    "id": "JbZJcCzh2w7r"
   },
   "outputs": [],
   "source": [
    "# Define the URL of the Python module to be downloaded from Dropbox.\n",
    "# The 'dl=1' parameter in the URL forces a direct download of the file content.\n",
    "url= 'https://www.dropbox.com/scl/fi/4y5hjxlfphh1ngvbgo77q/\\\n",
    "module_-basic_concepts_fixed_income.py?rlkey=6oxi7mgka42veaat79hcv8boz&st=stuou11h&dl=1'\n",
    "module_name='basic_concepts_fixed_income'\n",
    "# Send an HTTP GET request to the URL and store the server's response.\n",
    "try:\n",
    "  response=requests.get(url)\n",
    "  # Raise an exception for bad status codes (like 404 Not Found)\n",
    "  response.raise_for_status()\n",
    "  module= ModuleType(module_name)\n",
    "  #Code contained in response.text executed\n",
    "  exec(response.text, module.__dict__)\n",
    "  # Module added to sys\n",
    "  sys.modules[module_name]=module\n",
    "except requests.exceptions.RequestException as e:\n",
    "    print(f\"❌ Error: Could not fetch module from URL. {e}\")\n",
    "except Exception as e:\n",
    "    print(f\"❌ Error: Failed to execute or import the module. {e}\")\n",
    "# Open the local file in \"write binary\" ('wb') mode and save the downloaded content.\n",
    "# Using a 'with' statement ensures the file is properly closed after writing.\n",
    "\n",
    "# Now that 'basic_concepts_fixed_income' exists in the notebook, import the specific functions\n",
    "from basic_concepts_fixed_income import(parent_folder_subfolder,\n",
    "                                        background_material,\n",
    "                                        one_y_axis)"
   ]
  },
  {
   "cell_type": "markdown",
   "metadata": {
    "id": "e5-mBTtAn9z_"
   },
   "source": [
    "### ***NumPy Arrays***\n",
    "#### The NumPy library offers efficient numerical procedures that simplify complex calculations.$^{3}$ The fundamental object in this library is the NumPy array. An array is simply a data structure in which elements are arranged and accessed. It can be formed from a single value or from an iterable data type like a list, which holds a series of values.$^{4}$ NumPy must be imported before use; recall that in this Notebook, it was imported and aliased as <font color='green'>np</font> in the first code cell. The <font color='green'>array()</font> method is used to convert variables into NumPy arrays.$^{5}$ The following code creates an array from the list <font color='green'>[3%, 5%, 7%]</font> (lists are stylized with square brackets) and assigns that array to <font color='green'>interest_rates</font>. This is then passed to <font color='green'>display()</font>, which simply displays the contents of <font color='green'>interest_rates</font>.\n",
    "\n",
    "\n",
    "---\n",
    "\n",
    "\n",
    "$^{3}$<a href='https://patrickjhess.github.io/Introduction-To-Python-For-Financial-Python/An_Introduction_To_NumPy.html#numpy'>A Quick Introduction To NumPy </a>\n",
    "\n",
    "$^{4}$<a href='https://patrickjhess.github.io/Introduction-To-Python-For-Financial-Python/A_First_Look_At_Lists.html#a-first-look-at-lists'>A First Look At Lists </a>\n",
    "\n",
    "$^{5}$ Like other libraries the alias <font color='green'>np</font> need to proceed the method:  <font color='green'>np.arraay</font> instead of  <font color='green'>array</font>."
   ]
  },
  {
   "cell_type": "code",
   "execution_count": 3,
   "metadata": {
    "colab": {
     "base_uri": "https://localhost:8080/",
     "height": 34
    },
    "id": "40SqRI2sNVsG",
    "outputId": "ace57242-f825-4cfa-d1d3-991ce3d0fdf7"
   },
   "outputs": [
    {
     "data": {
      "text/plain": [
       "array([0.03, 0.05, 0.07])"
      ]
     },
     "metadata": {},
     "output_type": "display_data"
    }
   ],
   "source": [
    "interest_rates=np.array([0.03,0.05,0.07])\n",
    "display(interest_rates)"
   ]
  },
  {
   "cell_type": "markdown",
   "metadata": {
    "id": "DfY15lVsUCJ1"
   },
   "source": [
    "### ***NumPy Calculations***\n",
    "#### Now that we've created an array and assigned it to <font color='green'>interest_rates</font>, we can perform calculations on that array. NumPy calculates array elements individually. For instance, the <font color='green'>exp()</font> method used below raises each element of <font color='green'>interest_rates</font> to Euler's number, $e$. This approach is faster and more convenient than iterating through the rates."
   ]
  },
  {
   "cell_type": "code",
   "execution_count": 4,
   "metadata": {
    "colab": {
     "base_uri": "https://localhost:8080/",
     "height": 34
    },
    "id": "i9m6r2rRUCJ2",
    "outputId": "e11b287d-ea61-4133-9bc2-4fa82e8976c4"
   },
   "outputs": [
    {
     "data": {
      "text/plain": [
       "array([1.03045453, 1.0512711 , 1.07250818])"
      ]
     },
     "metadata": {},
     "output_type": "display_data"
    }
   ],
   "source": [
    "display(np.exp(interest_rates))"
   ]
  },
  {
   "cell_type": "markdown",
   "metadata": {
    "id": "HUNL2Av5UyPn"
   },
   "source": [
    "\n",
    "\n",
    "### <font color='blue'>***Application: Create a NumPy Array***</font>\n",
    "### <font color='blue'>***Create a NumPy array of the present value factors for the rates of*** <font color='green'>***interest_rates***</font></font>\n",
    "\n",
    "\n",
    "[***Chapter One Hints: Create A NumPy Array***](https://patrickjhess.github.io/Hints-Results/Chapter_One_Hints.html#create-a-numpy-array).\n",
    "\n",
    "[***Expected Results***](https://patrickjhess.github.io/Hints-Results/Chapter_One_Results.html#create-a-numpy-array)\n",
    "\n"
   ]
  },
  {
   "cell_type": "markdown",
   "metadata": {
    "id": "dded5EmOs0Nt"
   },
   "source": [
    "### ***Two-Dimensional Numpy Arrays***\n",
    "#### The <font color='green'>pv_rates</font> array, a two-dimensional NumPy array (or matrix), is created by combining two one-dimensional arrays: <font color='green'>interest_rates</font> and <font color='green'>pv_factors</font> within the <font color='green'>array()</font> method. To access the rows of this two-dimensional array, use the corresponding row index value. Both the interest rates and present value factors rows are displayed using f-strings that begins with an 'f' and enclose the string and variable in quotes.  The variable must also be encapsulated in curly brackets.\n"
   ]
  },
  {
   "cell_type": "code",
   "execution_count": 5,
   "metadata": {
    "colab": {
     "base_uri": "https://localhost:8080/",
     "height": 88
    },
    "id": "vOqgaL8GLb3c",
    "outputId": "00b1dff9-9fd8-4318-9865-e26626bcc762"
   },
   "outputs": [
    {
     "data": {
      "text/plain": [
       "array([[0.03      , 0.05      , 0.07      ],\n",
       "       [0.97044553, 0.95122942, 0.93239382]])"
      ]
     },
     "metadata": {},
     "output_type": "display_data"
    },
    {
     "data": {
      "text/plain": [
       "'Interest Rates [0.03 0.05 0.07]'"
      ]
     },
     "metadata": {},
     "output_type": "display_data"
    },
    {
     "data": {
      "text/plain": [
       "'Present Value Factors [0.97044553 0.95122942 0.93239382]'"
      ]
     },
     "metadata": {},
     "output_type": "display_data"
    }
   ],
   "source": [
    "#A calculation is make for each element of a numpy array\n",
    "pv_factors=1/np.exp(interest_rates)\n",
    "pv_rates=np.array([interest_rates,pv_factors])\n",
    "display(pv_rates)\n",
    "#Create an f string for each row.\n",
    "#Each row must also be encapsulated in curly brackets\n",
    "display(f'Interest Rates {pv_rates[0]}')\n",
    "display(f'Present Value Factors {pv_rates[1]}')"
   ]
  },
  {
   "cell_type": "markdown",
   "metadata": {
    "id": "GkeifN35F9Nq"
   },
   "source": [
    "\n",
    "\n",
    "### <font color='blue'>***Application: Manipulate a Two-Dimensional Array***</font>\n",
    "\n",
    "### <font color='blue'>***Create a two-dimensional array by raising the interest-rate row to Euler's number and multiplying the results by the present value factors.***</font>\n",
    "[***Chapter One Hints: Manipulate A Two-Dimensional Array***](https://patrickjhess.github.io/Hints-Results/Chapter_One_Hints.html#manipulate-two-dimensional-array)\n",
    "\n",
    "[***Expected Results***](https://patrickjhess.github.io/Hints-Results/Chapter_One_Results.html#manipulate-two-dimensional-array)\n",
    "\n"
   ]
  },
  {
   "cell_type": "markdown",
   "metadata": {
    "id": "RkM9VSHUJkv5"
   },
   "source": [
    "## ***Creating A Pandas DataFrame From NumPy Arrays***"
   ]
  },
  {
   "cell_type": "markdown",
   "metadata": {
    "id": "Vbw39ksbeYUt"
   },
   "source": [
    "### ***The Simple Example***\n",
    "#### A Pandas DataFrame organizes data into rows and columns, much like a spreadsheet or a NumPy array. It can be created from a two-dimensional array, such as <font color='green'>pv-rates</font>. The simplest DataFrames automatically assign row and column index values, a more functional approach allows for explicit naming of both. In this simple example, the <font color='green'>DataFrame()</font> method of Pandas uses three arrays as arguments, generating a row for each array.\n"
   ]
  },
  {
   "cell_type": "code",
   "execution_count": 6,
   "metadata": {
    "colab": {
     "base_uri": "https://localhost:8080/",
     "height": 143
    },
    "id": "rhs4dPbZBewm",
    "outputId": "b898a251-9666-42bb-d459-a074ad92618b"
   },
   "outputs": [
    {
     "data": {
      "text/html": [
       "<div>\n",
       "<style scoped>\n",
       "    .dataframe tbody tr th:only-of-type {\n",
       "        vertical-align: middle;\n",
       "    }\n",
       "\n",
       "    .dataframe tbody tr th {\n",
       "        vertical-align: top;\n",
       "    }\n",
       "\n",
       "    .dataframe thead th {\n",
       "        text-align: right;\n",
       "    }\n",
       "</style>\n",
       "<table border=\"1\" class=\"dataframe\">\n",
       "  <thead>\n",
       "    <tr style=\"text-align: right;\">\n",
       "      <th></th>\n",
       "      <th>0</th>\n",
       "      <th>1</th>\n",
       "      <th>2</th>\n",
       "    </tr>\n",
       "  </thead>\n",
       "  <tbody>\n",
       "    <tr>\n",
       "      <th>0</th>\n",
       "      <td>0.030000</td>\n",
       "      <td>0.050000</td>\n",
       "      <td>0.070000</td>\n",
       "    </tr>\n",
       "    <tr>\n",
       "      <th>1</th>\n",
       "      <td>1.030455</td>\n",
       "      <td>1.051271</td>\n",
       "      <td>1.072508</td>\n",
       "    </tr>\n",
       "    <tr>\n",
       "      <th>2</th>\n",
       "      <td>0.970446</td>\n",
       "      <td>0.951229</td>\n",
       "      <td>0.932394</td>\n",
       "    </tr>\n",
       "  </tbody>\n",
       "</table>\n",
       "</div>"
      ],
      "text/plain": [
       "          0         1         2\n",
       "0  0.030000  0.050000  0.070000\n",
       "1  1.030455  1.051271  1.072508\n",
       "2  0.970446  0.951229  0.932394"
      ]
     },
     "metadata": {},
     "output_type": "display_data"
    }
   ],
   "source": [
    "# Dataframe created with DataFrame() method\n",
    "simple_example=pd.DataFrame((interest_rates,\n",
    "              np.exp(interest_rates),\n",
    "              1/np.exp(interest_rates)))\n",
    "display(simple_example)"
   ]
  },
  {
   "cell_type": "markdown",
   "metadata": {
    "id": "KPe8fMDHYwbM"
   },
   "source": [
    "\n",
    "\n",
    "### <font color='blue'>***Application: Create a DataFrame from a Two-Dimensional Array***</font>\n",
    "### <font color='blue'>***Create a DataFrame with the two-dimensional array***</font> <font color='green'>***pv_rates***</font>.</font>\n",
    "[***Chapter One Hints: Create A DataFrame From A Two-Dimensional Array***](https://patrickjhess.github.io/Hints-Results/Chapter_One_Hints.html#create-a-dataframe-from-a-two-dimensional-array).\n",
    "\n",
    "[***Expected Results***](https://patrickjhess.github.io/Hints-Results/Chapter_One_Results.html#create-a-dataframe-from-a-two-dimensional-array)"
   ]
  },
  {
   "cell_type": "markdown",
   "metadata": {
    "id": "01g8tPXJZF0F"
   },
   "source": [
    "### ***Making Rows into Columns and Labeling the Columns***\n",
    "#### In the below code, rows are converted to columns by using the <font color='green'>transpose()</font> method on our earlier DataFrame, <font color='green'>simple_example</font>. This method changes the rows into columns.$^{6}$ The transposed result is then assigned to <font color='green'>rows_to_columns</font>, and the columns are then assigned the elements of a list (<font color='green'>['Rates', 'Future Value', 'Present Value']</font>).  Transposing the DataFrame makes <font color='green'>'Rates'</font>, <font color='green'>'Future Value'</font>, and <font color='green'>'Present Value'</font> the variables and the rows the observations of the variables.\n",
    "\n",
    "---\n",
    "$^{6}$ The method can be applied as <font color='green'>T</font>.  <a href='https://patrickjhess.github.io/Introduction-To-Python-For-Financial-Python/An_Introduction_To_Pandas.html#the-transpose'>Quick Introduction To Pandas</a>\n",
    "\n"
   ]
  },
  {
   "cell_type": "code",
   "execution_count": 7,
   "metadata": {
    "colab": {
     "base_uri": "https://localhost:8080/",
     "height": 143
    },
    "id": "zCme5RCiZF0G",
    "outputId": "53944a76-1b53-4073-956a-32a4a3580c09"
   },
   "outputs": [
    {
     "data": {
      "text/html": [
       "<div>\n",
       "<style scoped>\n",
       "    .dataframe tbody tr th:only-of-type {\n",
       "        vertical-align: middle;\n",
       "    }\n",
       "\n",
       "    .dataframe tbody tr th {\n",
       "        vertical-align: top;\n",
       "    }\n",
       "\n",
       "    .dataframe thead th {\n",
       "        text-align: right;\n",
       "    }\n",
       "</style>\n",
       "<table border=\"1\" class=\"dataframe\">\n",
       "  <thead>\n",
       "    <tr style=\"text-align: right;\">\n",
       "      <th></th>\n",
       "      <th>Rates</th>\n",
       "      <th>Future Value</th>\n",
       "      <th>Present Value</th>\n",
       "    </tr>\n",
       "  </thead>\n",
       "  <tbody>\n",
       "    <tr>\n",
       "      <th>0</th>\n",
       "      <td>0.03</td>\n",
       "      <td>1.030455</td>\n",
       "      <td>0.970446</td>\n",
       "    </tr>\n",
       "    <tr>\n",
       "      <th>1</th>\n",
       "      <td>0.05</td>\n",
       "      <td>1.051271</td>\n",
       "      <td>0.951229</td>\n",
       "    </tr>\n",
       "    <tr>\n",
       "      <th>2</th>\n",
       "      <td>0.07</td>\n",
       "      <td>1.072508</td>\n",
       "      <td>0.932394</td>\n",
       "    </tr>\n",
       "  </tbody>\n",
       "</table>\n",
       "</div>"
      ],
      "text/plain": [
       "   Rates  Future Value  Present Value\n",
       "0   0.03      1.030455       0.970446\n",
       "1   0.05      1.051271       0.951229\n",
       "2   0.07      1.072508       0.932394"
      ]
     },
     "metadata": {},
     "output_type": "display_data"
    }
   ],
   "source": [
    "#transpose the simple_example dataframe and call it rows_to_columns\n",
    "rows_to_columns=simple_example.transpose()\n",
    "#(the transpose method can also be written as simple_example.T)\n",
    "rows_to_columns.columns=['Rates','Future Value','Present Value']\n",
    "display(rows_to_columns)"
   ]
  },
  {
   "cell_type": "markdown",
   "metadata": {
    "id": "oMmpVtrHZF0G"
   },
   "source": [
    "### ***The set_index() Method***\n",
    "#### Once the DataFrame has been transposed, the next step is to make the <font color='green'>Rates</font> column the index.  You might wonder why it makes sense?  The reason is that the values of <font color='green'>Rates</font> determine the values of the columns <font color='green'>Future Value</font> and <font color='green'>Present Value</font>.  This change isn't necessary, but it draws our eye to a natural connection.  Instead of an index that only points to a row number, the new index points to the rate that causes the future and present values.\n",
    "\n",
    "\n",
    "#### The method <font color='green'>set_index()</font> takes a column name and removes the column from the DataFrame. Pandas has a builtin **fail-safe-switch**. By default, this change (and others we will encounter later) does not permanently alter the DataFrame.  You might find this a bit strange, but the efficacy avoids mistakes that are difficult to fix. To make the change permanent you assign <font color='green'>inplace</font> switch True.$^{7}$\n",
    "\n",
    "\n",
    "\n",
    "*   #### Assign the transposed value of the DataFrame to another DataFrame:\n",
    "\n",
    "\n",
    "```\n",
    "name_index_set_index=rows_to_columns.set_index('Rates')\n",
    "display(name_index_set)\n",
    "display(rows_to_columns)\n",
    "```\n",
    "\n",
    "\n",
    "*   Change the default value of the <font color='green'>inplace</font>  argument  of <font color='green'>set_index</font>  to True\n",
    "```\n",
    "rows_to_columns.set_index('Rates',inplace=True)\n",
    "display(rows_to_columns)\n",
    "```\n",
    "\n",
    "---\n",
    "$^{7}$ <a href='https://patrickjhess.github.io/Introduction-To-Python-For-Financial-Python/An_Introduction_To_Pandas.html#making-a-column-the-index'>A Quick Introduction To Pandas</a>\n",
    "\n"
   ]
  },
  {
   "cell_type": "code",
   "execution_count": 8,
   "metadata": {
    "colab": {
     "base_uri": "https://localhost:8080/",
     "height": 459
    },
    "id": "qThbwgknZF0H",
    "outputId": "b7ea23c1-ab1d-4fe7-babf-407f32b2ab22"
   },
   "outputs": [
    {
     "data": {
      "text/html": [
       "<div>\n",
       "<style scoped>\n",
       "    .dataframe tbody tr th:only-of-type {\n",
       "        vertical-align: middle;\n",
       "    }\n",
       "\n",
       "    .dataframe tbody tr th {\n",
       "        vertical-align: top;\n",
       "    }\n",
       "\n",
       "    .dataframe thead th {\n",
       "        text-align: right;\n",
       "    }\n",
       "</style>\n",
       "<table border=\"1\" class=\"dataframe\">\n",
       "  <thead>\n",
       "    <tr style=\"text-align: right;\">\n",
       "      <th></th>\n",
       "      <th>Future Value</th>\n",
       "      <th>Present Value</th>\n",
       "    </tr>\n",
       "    <tr>\n",
       "      <th>Rates</th>\n",
       "      <th></th>\n",
       "      <th></th>\n",
       "    </tr>\n",
       "  </thead>\n",
       "  <tbody>\n",
       "    <tr>\n",
       "      <th>0.03</th>\n",
       "      <td>1.030455</td>\n",
       "      <td>0.970446</td>\n",
       "    </tr>\n",
       "    <tr>\n",
       "      <th>0.05</th>\n",
       "      <td>1.051271</td>\n",
       "      <td>0.951229</td>\n",
       "    </tr>\n",
       "    <tr>\n",
       "      <th>0.07</th>\n",
       "      <td>1.072508</td>\n",
       "      <td>0.932394</td>\n",
       "    </tr>\n",
       "  </tbody>\n",
       "</table>\n",
       "</div>"
      ],
      "text/plain": [
       "       Future Value  Present Value\n",
       "Rates                             \n",
       "0.03       1.030455       0.970446\n",
       "0.05       1.051271       0.951229\n",
       "0.07       1.072508       0.932394"
      ]
     },
     "metadata": {},
     "output_type": "display_data"
    },
    {
     "data": {
      "text/html": [
       "<div>\n",
       "<style scoped>\n",
       "    .dataframe tbody tr th:only-of-type {\n",
       "        vertical-align: middle;\n",
       "    }\n",
       "\n",
       "    .dataframe tbody tr th {\n",
       "        vertical-align: top;\n",
       "    }\n",
       "\n",
       "    .dataframe thead th {\n",
       "        text-align: right;\n",
       "    }\n",
       "</style>\n",
       "<table border=\"1\" class=\"dataframe\">\n",
       "  <thead>\n",
       "    <tr style=\"text-align: right;\">\n",
       "      <th></th>\n",
       "      <th>Rates</th>\n",
       "      <th>Future Value</th>\n",
       "      <th>Present Value</th>\n",
       "    </tr>\n",
       "  </thead>\n",
       "  <tbody>\n",
       "    <tr>\n",
       "      <th>0</th>\n",
       "      <td>0.03</td>\n",
       "      <td>1.030455</td>\n",
       "      <td>0.970446</td>\n",
       "    </tr>\n",
       "    <tr>\n",
       "      <th>1</th>\n",
       "      <td>0.05</td>\n",
       "      <td>1.051271</td>\n",
       "      <td>0.951229</td>\n",
       "    </tr>\n",
       "    <tr>\n",
       "      <th>2</th>\n",
       "      <td>0.07</td>\n",
       "      <td>1.072508</td>\n",
       "      <td>0.932394</td>\n",
       "    </tr>\n",
       "  </tbody>\n",
       "</table>\n",
       "</div>"
      ],
      "text/plain": [
       "   Rates  Future Value  Present Value\n",
       "0   0.03      1.030455       0.970446\n",
       "1   0.05      1.051271       0.951229\n",
       "2   0.07      1.072508       0.932394"
      ]
     },
     "metadata": {},
     "output_type": "display_data"
    },
    {
     "data": {
      "text/html": [
       "<div>\n",
       "<style scoped>\n",
       "    .dataframe tbody tr th:only-of-type {\n",
       "        vertical-align: middle;\n",
       "    }\n",
       "\n",
       "    .dataframe tbody tr th {\n",
       "        vertical-align: top;\n",
       "    }\n",
       "\n",
       "    .dataframe thead th {\n",
       "        text-align: right;\n",
       "    }\n",
       "</style>\n",
       "<table border=\"1\" class=\"dataframe\">\n",
       "  <thead>\n",
       "    <tr style=\"text-align: right;\">\n",
       "      <th></th>\n",
       "      <th>Future Value</th>\n",
       "      <th>Present Value</th>\n",
       "    </tr>\n",
       "    <tr>\n",
       "      <th>Rates</th>\n",
       "      <th></th>\n",
       "      <th></th>\n",
       "    </tr>\n",
       "  </thead>\n",
       "  <tbody>\n",
       "    <tr>\n",
       "      <th>0.03</th>\n",
       "      <td>1.030455</td>\n",
       "      <td>0.970446</td>\n",
       "    </tr>\n",
       "    <tr>\n",
       "      <th>0.05</th>\n",
       "      <td>1.051271</td>\n",
       "      <td>0.951229</td>\n",
       "    </tr>\n",
       "    <tr>\n",
       "      <th>0.07</th>\n",
       "      <td>1.072508</td>\n",
       "      <td>0.932394</td>\n",
       "    </tr>\n",
       "  </tbody>\n",
       "</table>\n",
       "</div>"
      ],
      "text/plain": [
       "       Future Value  Present Value\n",
       "Rates                             \n",
       "0.03       1.030455       0.970446\n",
       "0.05       1.051271       0.951229\n",
       "0.07       1.072508       0.932394"
      ]
     },
     "metadata": {},
     "output_type": "display_data"
    }
   ],
   "source": [
    "name_index_set_index=rows_to_columns.set_index('Rates')\n",
    "display(name_index_set_index)\n",
    "display(rows_to_columns)\n",
    "rows_to_columns.set_index('Rates',inplace=True)\n",
    "display(rows_to_columns)"
   ]
  },
  {
   "cell_type": "markdown",
   "metadata": {
    "id": "UbjTS67K1NXT"
   },
   "source": [
    "### ***The Term Structure Of Interest Rates: Putting NumPy And Pandas To Work***\n",
    "\n",
    "\n",
    "#### The term structure of interest describes how interest rates vary over time. It is a critical financial metric reflected in the pricing or valuation of almost all assets.\n",
    "#### NumPy and Pandas are powerful tools that greatly simplify the manipulation and calculation of extensive and complex financial data. We will explore their application in calculating the term structure of interest rates on various dates, a process that requires accessing large datasets and performing numerous calculations. These libraries are essential for this task.\n"
   ]
  },
  {
   "cell_type": "markdown",
   "metadata": {
    "id": "WdmICQZVaSmD"
   },
   "source": [
    "## ***The Term Structure of Interest Rates***\n",
    "\n",
    "#### The earlier discussion of bond pricing described the price of a zero-coupon bond as its maturity value times the present value factor. A NumPy array and a Pandas DataFrame included interest rates, future values, and present value factors.  The same concepts are used to calculate the Term Structure Of Interest Rates (Term Structure).\n",
    "\n",
    "### ***Spot Rates Of Interest***\n",
    "#### The Term Structure is the relation between the annualized interest rates of zero-coupon bonds, or the spot rate of interest, and the bonds' maturities. The price of a zero-coupon bond with a maturity of $t$ and a principal of $1 is:\n",
    "\n",
    "$$\\Large P(t) = e^{ -r_t\\times t}$$\n",
    "\n",
    "#### The annualized continuously-compounded interest rate of the $t$-period zero-coupon bond is:\n",
    "\n",
    "$$\\Large r_t = \\frac{-ln(P(t))}{t}$$\n",
    "#### $r_t$ is known as the spot rate of interest for $t$ periods.\n",
    "#### If a zero-coupon bond pays $\\$1$ in six months and has a price of $0.9753, the continuously-compounded annual rate of interest is:\n",
    "\n",
    "$$5\\% = \\frac{-ln(0.9753)}{0.5}$$\n",
    "\n",
    "### ***Forward Rates Of Interest***\n",
    "#### The forward rate of interest represents the additional return gained by extending an investment's duration&mdash;or the extra earnings from investing for two months instead of one. When two bonds offer an identical single payment at maturity, the forward rate between the shorter and longer maturities is determined by the ratio of their respective prices.\n",
    "\n",
    "#### For zero-coupon bonds with a principal of $\\$1$, the calculation of one plus the forward rate between $t$ and $t+\\Delta t$  is:\n",
    "\n",
    "\n",
    "$$\\Large\\frac{\\frac{1}{P(t+\\Delta t)}}{\\frac{1}{P(t)}}= e^{f(t,t+\\Delta t)\\times\\Delta t}$$\n",
    "\n",
    "\n",
    "$$\\large\\frac{P(t)}{P(t+\\Delta t)}= e^{f(t,t+\\Delta t)\\times\\Delta t}$$\n",
    "\n",
    "#### The continuously-compounded annualized forward rate between $t$ and $t+\\Delta t$ is:\n",
    "\n",
    "\n",
    "\n",
    "$$\\large f(t,t+\\Delta t) = \\frac{ln(P(t)) - ln(P(t+\\Delta t))}{\\Delta t}$$\n",
    "\n",
    "#### The forward rates can be locked in by purchasing the zero-coupon bond that matures in $\\large t+\\Delta t$ periods and for $t$ periods, borrowing $P(t+\\Delta t)$ today at the rate $P(t)^{-1}.$  At $t$, the borrowing is repaid, and at $t +\\Delta t$, the zero-coupon matures and pays one dollar. The borrowing, repayment, and locked-in rate-of-return calculations are shown below.\n",
    "\n",
    "$$\\large Amount\\,Borrowed =P(t+\\Delta t)$$\n",
    "$$\\large Repayment = P(t+\\Delta t)\\times\\frac{1}{P(t)}$$\n",
    "$$\\large Locked\\,In\\,Rate\\,of\\,Return = \\frac{1}{\\frac{P(t+\\Delta t)}{P(t)}}-1 =\\frac{P(t)}{P(t+\\Delta t)}-1$$\n",
    "\n",
    "#### The continuously-compounded annualized locked-in rate of return equals:\n",
    "\n",
    "$$\\large\\frac{ln(P(t)) -ln(P(t+\\Delta t))}{\\Delta t}.$$\n",
    "\n",
    "#### This value is the same as the continuously-compounded forward rate of interest between $t$ and  $\\ t+\\Delta t$.\n",
    "\n",
    "#### Although it might seem obvious that the locked-in rate of return and the forward rate are equal, this result is significant. Imagine an investor who intends to invest at the future date $t$ for $\\Delta t$ periods. The investor can\n",
    "\n",
    "1.   #### wait until $t$ to invest at the unknown spot rate $\\ r(t,t+\\Delta t)$, or\n",
    "2.   #### lock in a rate of return today that equals the current forward rate $\\ f(t,t+\\Delta t)$.\n",
    "\n",
    "#### In a state of equilibrium, the prices of zero-coupon bonds ensure that investors are indifferent to either securing a spot rate immediately or deferring investment until a future, unknown spot rate. The choice between rolling over a short-term investment and making a long-term one essentially hinges on expectations regarding future interest rates. Similar to the odds in a sports wager, the forward rate represents a fair-bet value for these future unknown spot rates, thereby making investors indifferent to the duration of their investment. Although forward rates forecast future spot rates, the forecasts may not be the expected values.$^{8}$\n",
    "\n",
    "\n",
    "\n",
    "---\n",
    " $^{8}$ This statement presumes that future spot rates are uncertain. If future spot rates are known, forward rates will equal future spot rates.\n",
    "\n"
   ]
  },
  {
   "cell_type": "markdown",
   "metadata": {
    "id": "S7J-6OooecAW"
   },
   "source": [
    "## ***Calculating the Term Structure of Interest Rates with Treasury Bills***\n",
    "#### Treasury bills, or T-bills, mature in a year or less and make a single principal payment at maturity. In this section, we'll apply the Python concepts we've learned so far to T-bill data, using the bills to demonstrate the term structure between one month and one year. Because the bills make a single payment, their prices are determined by the single spot rate of interest at maturity.\n",
    "\n",
    "### ***Getting Treasury Bill Data***\n",
    "#### Treasury bill data is available from the US Department of the Treasury (Treasury) at the department's <a href='https://home.treasury.gov/resource-center/data-chart-center/interest-rates/TextView?type=daily_treasury_bill_rates&field_tdr_date_value_month=202509'>\"Daily Treasury Bill Rate\"</a> page. The data used in this example is for September 2022 and was uploaded to DropBox as an Excel workbook.\n",
    "### ***The Python & Financial Concepts***\n",
    "#### This example outlines two Python concepts. First, it demonstrates how to leverage Pandas for accessing Excel workbooks from a URL and convert them into DataFrames—a highly effective skill given Excel's widespread use.  The Pandas method is <font color='green'>read_excel</font>.$^{9}$ Second, it illustrates data manipulation techniques using Pandas, specifically focusing on how <font color='green'>loc</font>, <font color='green'>iloc</font>, and <font color='green'>get_indexer</font> are used to retrieve data needed for calculations.$^{10}$\n",
    "\n",
    "#### Measuring the term structure is a key financial skill. The term structure of interest rates is a critical indicator of financial market conditions. Its explanation, along with the concepts necessary for its calculation, represents the most significant aspect of this example. The relation between past, present,and future market conditions are expressed by measuring the term structure.\n",
    "\n",
    "\n",
    "### ***Accessing The Data***\n",
    "#### The Pandas magic used to read a an Excel workbook from a URL address is <font color='green'>read_excel</font>.  The arguments of the method are:\n",
    "\n",
    "\n",
    "1. #### The website address, or <font color='green'>url</font>. This argument is required.\n",
    "2.  #### The columns used as the index, or <font color='green'>index_col</font>. This argument is optional and is assigned to the <font color='green'>Date</font> column.\n",
    "\n",
    "\n",
    "\n",
    "\n",
    "```\n",
    "url='https://www.dropbox.com/scl/fi/wdb24k0dddkpq7qry5sl8/\\\n",
    "daily-treasury-rates-9-22.xlsx?rlkey=qxoo8vpa4iziu5kvi27u6c41l&dl=1'\n",
    "Tbill_data_excel=pd.read_excel(url, index_col='Date)\n",
    "```\n",
    "\n",
    "\n",
    "---\n",
    "\n",
    "\n",
    "\n",
    "\n",
    "$^{9}$  <a href='https://patrickjhess.github.io/Introduction-To-Python-For-Financial-Python/An_Introduction_To_Pandas.html#dataframes-csv-and-excel-files'>A Quick Introduction To Pandas</a>.\n",
    "\n",
    "$^{10}$ <a href='https://patrickjhess.github.io/Introduction-To-Python-For-Financial-Python/An_Introduction_To_Pandas.html#the-loc-and-iloc-attributes'> A Quick Introduction To Pandas</a>."
   ]
  },
  {
   "cell_type": "markdown",
   "metadata": {
    "id": "Qm4PHd-CecAY"
   },
   "source": [
    "### ***Creating the DataFrame Tbill_data_excel From An Excel Workbook***\n",
    "#### An Excel workbook is accessed from Dropbox. The URL is provided by DropBox.The Pandas method <font color='green'>read_excel()</font> is used to read and assign the data to <font color='green'>Tbill_data_excel</font>.  The <font color='green'>Date</font> column is assigned as the index.  Notice here that <font color='green'>try</font> and <font color='green'>except</font> are used to alert us if the file is not available.\n",
    "\n"
   ]
  },
  {
   "cell_type": "code",
   "execution_count": 9,
   "metadata": {
    "colab": {
     "base_uri": "https://localhost:8080/",
     "height": 1000
    },
    "id": "DyAyOS87ecAY",
    "outputId": "8c90bbe1-10dd-480a-db39-fea8a4478be1"
   },
   "outputs": [
    {
     "name": "stdout",
     "output_type": "stream",
     "text": [
      "Attempting to load data from: https://www.dropbox.com/scl/fi/wdb24k0dddkpq7qry5sl8/daily-treasury-rates-9-22.xlsx?rlkey=qxoo8vpa4iziu5kvi27u6c41l&dl=1\n"
     ]
    },
    {
     "data": {
      "text/html": [
       "<div>\n",
       "<style scoped>\n",
       "    .dataframe tbody tr th:only-of-type {\n",
       "        vertical-align: middle;\n",
       "    }\n",
       "\n",
       "    .dataframe tbody tr th {\n",
       "        vertical-align: top;\n",
       "    }\n",
       "\n",
       "    .dataframe thead th {\n",
       "        text-align: right;\n",
       "    }\n",
       "</style>\n",
       "<table border=\"1\" class=\"dataframe\">\n",
       "  <thead>\n",
       "    <tr style=\"text-align: right;\">\n",
       "      <th></th>\n",
       "      <th>4 WEEKS BANK DISCOUNT</th>\n",
       "      <th>4 WEEKS COUPON EQUIVALENT</th>\n",
       "      <th>8 WEEKS BANK DISCOUNT</th>\n",
       "      <th>8 WEEKS COUPON EQUIVALENT</th>\n",
       "      <th>13 WEEKS BANK DISCOUNT</th>\n",
       "      <th>13 WEEKS COUPON EQUIVALENT</th>\n",
       "      <th>26 WEEKS BANK DISCOUNT</th>\n",
       "      <th>26 WEEKS COUPON EQUIVALENT</th>\n",
       "      <th>52 WEEKS BANK DISCOUNT</th>\n",
       "      <th>52 WEEKS COUPON EQUIVALENT</th>\n",
       "    </tr>\n",
       "    <tr>\n",
       "      <th>Date</th>\n",
       "      <th></th>\n",
       "      <th></th>\n",
       "      <th></th>\n",
       "      <th></th>\n",
       "      <th></th>\n",
       "      <th></th>\n",
       "      <th></th>\n",
       "      <th></th>\n",
       "      <th></th>\n",
       "      <th></th>\n",
       "    </tr>\n",
       "  </thead>\n",
       "  <tbody>\n",
       "    <tr>\n",
       "      <th>2022-09-30</th>\n",
       "      <td>2.70</td>\n",
       "      <td>2.74</td>\n",
       "      <td>3.07</td>\n",
       "      <td>3.13</td>\n",
       "      <td>3.22</td>\n",
       "      <td>3.29</td>\n",
       "      <td>3.82</td>\n",
       "      <td>3.95</td>\n",
       "      <td>3.87</td>\n",
       "      <td>4.03</td>\n",
       "    </tr>\n",
       "    <tr>\n",
       "      <th>2022-09-29</th>\n",
       "      <td>2.68</td>\n",
       "      <td>2.72</td>\n",
       "      <td>3.08</td>\n",
       "      <td>3.14</td>\n",
       "      <td>3.26</td>\n",
       "      <td>3.33</td>\n",
       "      <td>3.78</td>\n",
       "      <td>3.91</td>\n",
       "      <td>3.80</td>\n",
       "      <td>3.96</td>\n",
       "    </tr>\n",
       "    <tr>\n",
       "      <th>2022-09-28</th>\n",
       "      <td>2.50</td>\n",
       "      <td>2.54</td>\n",
       "      <td>2.96</td>\n",
       "      <td>3.01</td>\n",
       "      <td>3.29</td>\n",
       "      <td>3.36</td>\n",
       "      <td>3.78</td>\n",
       "      <td>3.91</td>\n",
       "      <td>3.81</td>\n",
       "      <td>3.97</td>\n",
       "    </tr>\n",
       "    <tr>\n",
       "      <th>2022-09-27</th>\n",
       "      <td>2.60</td>\n",
       "      <td>2.64</td>\n",
       "      <td>2.99</td>\n",
       "      <td>3.05</td>\n",
       "      <td>3.26</td>\n",
       "      <td>3.33</td>\n",
       "      <td>3.83</td>\n",
       "      <td>3.96</td>\n",
       "      <td>3.97</td>\n",
       "      <td>4.14</td>\n",
       "    </tr>\n",
       "    <tr>\n",
       "      <th>2022-09-26</th>\n",
       "      <td>2.64</td>\n",
       "      <td>2.68</td>\n",
       "      <td>2.99</td>\n",
       "      <td>3.05</td>\n",
       "      <td>3.30</td>\n",
       "      <td>3.37</td>\n",
       "      <td>3.87</td>\n",
       "      <td>4.00</td>\n",
       "      <td>3.98</td>\n",
       "      <td>4.15</td>\n",
       "    </tr>\n",
       "    <tr>\n",
       "      <th>2022-09-23</th>\n",
       "      <td>2.59</td>\n",
       "      <td>2.63</td>\n",
       "      <td>2.95</td>\n",
       "      <td>3.00</td>\n",
       "      <td>3.12</td>\n",
       "      <td>3.19</td>\n",
       "      <td>3.76</td>\n",
       "      <td>3.88</td>\n",
       "      <td>3.97</td>\n",
       "      <td>4.14</td>\n",
       "    </tr>\n",
       "    <tr>\n",
       "      <th>2022-09-22</th>\n",
       "      <td>2.65</td>\n",
       "      <td>2.69</td>\n",
       "      <td>2.98</td>\n",
       "      <td>3.04</td>\n",
       "      <td>3.19</td>\n",
       "      <td>3.26</td>\n",
       "      <td>3.78</td>\n",
       "      <td>3.91</td>\n",
       "      <td>3.90</td>\n",
       "      <td>4.07</td>\n",
       "    </tr>\n",
       "    <tr>\n",
       "      <th>2022-09-21</th>\n",
       "      <td>2.46</td>\n",
       "      <td>2.50</td>\n",
       "      <td>2.89</td>\n",
       "      <td>2.94</td>\n",
       "      <td>3.21</td>\n",
       "      <td>3.28</td>\n",
       "      <td>3.77</td>\n",
       "      <td>3.90</td>\n",
       "      <td>3.90</td>\n",
       "      <td>4.07</td>\n",
       "    </tr>\n",
       "    <tr>\n",
       "      <th>2022-09-20</th>\n",
       "      <td>2.47</td>\n",
       "      <td>2.51</td>\n",
       "      <td>2.88</td>\n",
       "      <td>2.93</td>\n",
       "      <td>3.26</td>\n",
       "      <td>3.33</td>\n",
       "      <td>3.77</td>\n",
       "      <td>3.90</td>\n",
       "      <td>3.87</td>\n",
       "      <td>4.04</td>\n",
       "    </tr>\n",
       "    <tr>\n",
       "      <th>2022-09-19</th>\n",
       "      <td>2.53</td>\n",
       "      <td>2.57</td>\n",
       "      <td>2.87</td>\n",
       "      <td>2.92</td>\n",
       "      <td>3.29</td>\n",
       "      <td>3.36</td>\n",
       "      <td>3.78</td>\n",
       "      <td>3.91</td>\n",
       "      <td>3.88</td>\n",
       "      <td>4.05</td>\n",
       "    </tr>\n",
       "    <tr>\n",
       "      <th>2022-09-16</th>\n",
       "      <td>2.60</td>\n",
       "      <td>2.64</td>\n",
       "      <td>2.89</td>\n",
       "      <td>2.94</td>\n",
       "      <td>3.10</td>\n",
       "      <td>3.17</td>\n",
       "      <td>3.68</td>\n",
       "      <td>3.80</td>\n",
       "      <td>3.80</td>\n",
       "      <td>3.96</td>\n",
       "    </tr>\n",
       "    <tr>\n",
       "      <th>2022-09-15</th>\n",
       "      <td>2.68</td>\n",
       "      <td>2.72</td>\n",
       "      <td>2.92</td>\n",
       "      <td>2.97</td>\n",
       "      <td>3.12</td>\n",
       "      <td>3.19</td>\n",
       "      <td>3.69</td>\n",
       "      <td>3.81</td>\n",
       "      <td>3.83</td>\n",
       "      <td>4.00</td>\n",
       "    </tr>\n",
       "    <tr>\n",
       "      <th>2022-09-14</th>\n",
       "      <td>2.43</td>\n",
       "      <td>2.47</td>\n",
       "      <td>2.78</td>\n",
       "      <td>2.83</td>\n",
       "      <td>3.14</td>\n",
       "      <td>3.21</td>\n",
       "      <td>3.68</td>\n",
       "      <td>3.80</td>\n",
       "      <td>3.79</td>\n",
       "      <td>3.95</td>\n",
       "    </tr>\n",
       "    <tr>\n",
       "      <th>2022-09-13</th>\n",
       "      <td>2.45</td>\n",
       "      <td>2.49</td>\n",
       "      <td>2.79</td>\n",
       "      <td>2.84</td>\n",
       "      <td>3.19</td>\n",
       "      <td>3.26</td>\n",
       "      <td>3.67</td>\n",
       "      <td>3.79</td>\n",
       "      <td>3.76</td>\n",
       "      <td>3.92</td>\n",
       "    </tr>\n",
       "    <tr>\n",
       "      <th>2022-09-12</th>\n",
       "      <td>2.54</td>\n",
       "      <td>2.58</td>\n",
       "      <td>2.79</td>\n",
       "      <td>2.84</td>\n",
       "      <td>3.09</td>\n",
       "      <td>3.16</td>\n",
       "      <td>3.48</td>\n",
       "      <td>3.59</td>\n",
       "      <td>3.55</td>\n",
       "      <td>3.70</td>\n",
       "    </tr>\n",
       "    <tr>\n",
       "      <th>2022-09-09</th>\n",
       "      <td>2.50</td>\n",
       "      <td>2.54</td>\n",
       "      <td>2.77</td>\n",
       "      <td>2.82</td>\n",
       "      <td>2.98</td>\n",
       "      <td>3.04</td>\n",
       "      <td>3.44</td>\n",
       "      <td>3.55</td>\n",
       "      <td>3.52</td>\n",
       "      <td>3.67</td>\n",
       "    </tr>\n",
       "    <tr>\n",
       "      <th>2022-09-08</th>\n",
       "      <td>2.50</td>\n",
       "      <td>2.54</td>\n",
       "      <td>2.76</td>\n",
       "      <td>2.81</td>\n",
       "      <td>2.97</td>\n",
       "      <td>3.03</td>\n",
       "      <td>3.37</td>\n",
       "      <td>3.48</td>\n",
       "      <td>3.46</td>\n",
       "      <td>3.60</td>\n",
       "    </tr>\n",
       "    <tr>\n",
       "      <th>2022-09-07</th>\n",
       "      <td>2.18</td>\n",
       "      <td>2.21</td>\n",
       "      <td>2.63</td>\n",
       "      <td>2.68</td>\n",
       "      <td>2.98</td>\n",
       "      <td>3.04</td>\n",
       "      <td>3.34</td>\n",
       "      <td>3.44</td>\n",
       "      <td>3.46</td>\n",
       "      <td>3.60</td>\n",
       "    </tr>\n",
       "    <tr>\n",
       "      <th>2022-09-06</th>\n",
       "      <td>2.34</td>\n",
       "      <td>2.38</td>\n",
       "      <td>2.68</td>\n",
       "      <td>2.73</td>\n",
       "      <td>2.96</td>\n",
       "      <td>3.02</td>\n",
       "      <td>3.33</td>\n",
       "      <td>3.43</td>\n",
       "      <td>3.47</td>\n",
       "      <td>3.61</td>\n",
       "    </tr>\n",
       "    <tr>\n",
       "      <th>2022-09-02</th>\n",
       "      <td>2.42</td>\n",
       "      <td>2.46</td>\n",
       "      <td>2.69</td>\n",
       "      <td>2.74</td>\n",
       "      <td>2.85</td>\n",
       "      <td>2.91</td>\n",
       "      <td>3.26</td>\n",
       "      <td>3.36</td>\n",
       "      <td>3.35</td>\n",
       "      <td>3.48</td>\n",
       "    </tr>\n",
       "    <tr>\n",
       "      <th>2022-09-01</th>\n",
       "      <td>2.46</td>\n",
       "      <td>2.50</td>\n",
       "      <td>2.70</td>\n",
       "      <td>2.75</td>\n",
       "      <td>2.88</td>\n",
       "      <td>2.94</td>\n",
       "      <td>3.27</td>\n",
       "      <td>3.37</td>\n",
       "      <td>3.38</td>\n",
       "      <td>3.51</td>\n",
       "    </tr>\n",
       "  </tbody>\n",
       "</table>\n",
       "</div>"
      ],
      "text/plain": [
       "            4 WEEKS BANK DISCOUNT  4 WEEKS COUPON EQUIVALENT  \\\n",
       "Date                                                           \n",
       "2022-09-30                   2.70                       2.74   \n",
       "2022-09-29                   2.68                       2.72   \n",
       "2022-09-28                   2.50                       2.54   \n",
       "2022-09-27                   2.60                       2.64   \n",
       "2022-09-26                   2.64                       2.68   \n",
       "2022-09-23                   2.59                       2.63   \n",
       "2022-09-22                   2.65                       2.69   \n",
       "2022-09-21                   2.46                       2.50   \n",
       "2022-09-20                   2.47                       2.51   \n",
       "2022-09-19                   2.53                       2.57   \n",
       "2022-09-16                   2.60                       2.64   \n",
       "2022-09-15                   2.68                       2.72   \n",
       "2022-09-14                   2.43                       2.47   \n",
       "2022-09-13                   2.45                       2.49   \n",
       "2022-09-12                   2.54                       2.58   \n",
       "2022-09-09                   2.50                       2.54   \n",
       "2022-09-08                   2.50                       2.54   \n",
       "2022-09-07                   2.18                       2.21   \n",
       "2022-09-06                   2.34                       2.38   \n",
       "2022-09-02                   2.42                       2.46   \n",
       "2022-09-01                   2.46                       2.50   \n",
       "\n",
       "            8 WEEKS BANK DISCOUNT  8 WEEKS COUPON EQUIVALENT  \\\n",
       "Date                                                           \n",
       "2022-09-30                   3.07                       3.13   \n",
       "2022-09-29                   3.08                       3.14   \n",
       "2022-09-28                   2.96                       3.01   \n",
       "2022-09-27                   2.99                       3.05   \n",
       "2022-09-26                   2.99                       3.05   \n",
       "2022-09-23                   2.95                       3.00   \n",
       "2022-09-22                   2.98                       3.04   \n",
       "2022-09-21                   2.89                       2.94   \n",
       "2022-09-20                   2.88                       2.93   \n",
       "2022-09-19                   2.87                       2.92   \n",
       "2022-09-16                   2.89                       2.94   \n",
       "2022-09-15                   2.92                       2.97   \n",
       "2022-09-14                   2.78                       2.83   \n",
       "2022-09-13                   2.79                       2.84   \n",
       "2022-09-12                   2.79                       2.84   \n",
       "2022-09-09                   2.77                       2.82   \n",
       "2022-09-08                   2.76                       2.81   \n",
       "2022-09-07                   2.63                       2.68   \n",
       "2022-09-06                   2.68                       2.73   \n",
       "2022-09-02                   2.69                       2.74   \n",
       "2022-09-01                   2.70                       2.75   \n",
       "\n",
       "            13 WEEKS BANK DISCOUNT  13 WEEKS COUPON EQUIVALENT  \\\n",
       "Date                                                             \n",
       "2022-09-30                    3.22                        3.29   \n",
       "2022-09-29                    3.26                        3.33   \n",
       "2022-09-28                    3.29                        3.36   \n",
       "2022-09-27                    3.26                        3.33   \n",
       "2022-09-26                    3.30                        3.37   \n",
       "2022-09-23                    3.12                        3.19   \n",
       "2022-09-22                    3.19                        3.26   \n",
       "2022-09-21                    3.21                        3.28   \n",
       "2022-09-20                    3.26                        3.33   \n",
       "2022-09-19                    3.29                        3.36   \n",
       "2022-09-16                    3.10                        3.17   \n",
       "2022-09-15                    3.12                        3.19   \n",
       "2022-09-14                    3.14                        3.21   \n",
       "2022-09-13                    3.19                        3.26   \n",
       "2022-09-12                    3.09                        3.16   \n",
       "2022-09-09                    2.98                        3.04   \n",
       "2022-09-08                    2.97                        3.03   \n",
       "2022-09-07                    2.98                        3.04   \n",
       "2022-09-06                    2.96                        3.02   \n",
       "2022-09-02                    2.85                        2.91   \n",
       "2022-09-01                    2.88                        2.94   \n",
       "\n",
       "            26 WEEKS BANK DISCOUNT  26 WEEKS COUPON EQUIVALENT  \\\n",
       "Date                                                             \n",
       "2022-09-30                    3.82                        3.95   \n",
       "2022-09-29                    3.78                        3.91   \n",
       "2022-09-28                    3.78                        3.91   \n",
       "2022-09-27                    3.83                        3.96   \n",
       "2022-09-26                    3.87                        4.00   \n",
       "2022-09-23                    3.76                        3.88   \n",
       "2022-09-22                    3.78                        3.91   \n",
       "2022-09-21                    3.77                        3.90   \n",
       "2022-09-20                    3.77                        3.90   \n",
       "2022-09-19                    3.78                        3.91   \n",
       "2022-09-16                    3.68                        3.80   \n",
       "2022-09-15                    3.69                        3.81   \n",
       "2022-09-14                    3.68                        3.80   \n",
       "2022-09-13                    3.67                        3.79   \n",
       "2022-09-12                    3.48                        3.59   \n",
       "2022-09-09                    3.44                        3.55   \n",
       "2022-09-08                    3.37                        3.48   \n",
       "2022-09-07                    3.34                        3.44   \n",
       "2022-09-06                    3.33                        3.43   \n",
       "2022-09-02                    3.26                        3.36   \n",
       "2022-09-01                    3.27                        3.37   \n",
       "\n",
       "            52 WEEKS BANK DISCOUNT  52 WEEKS COUPON EQUIVALENT  \n",
       "Date                                                            \n",
       "2022-09-30                    3.87                        4.03  \n",
       "2022-09-29                    3.80                        3.96  \n",
       "2022-09-28                    3.81                        3.97  \n",
       "2022-09-27                    3.97                        4.14  \n",
       "2022-09-26                    3.98                        4.15  \n",
       "2022-09-23                    3.97                        4.14  \n",
       "2022-09-22                    3.90                        4.07  \n",
       "2022-09-21                    3.90                        4.07  \n",
       "2022-09-20                    3.87                        4.04  \n",
       "2022-09-19                    3.88                        4.05  \n",
       "2022-09-16                    3.80                        3.96  \n",
       "2022-09-15                    3.83                        4.00  \n",
       "2022-09-14                    3.79                        3.95  \n",
       "2022-09-13                    3.76                        3.92  \n",
       "2022-09-12                    3.55                        3.70  \n",
       "2022-09-09                    3.52                        3.67  \n",
       "2022-09-08                    3.46                        3.60  \n",
       "2022-09-07                    3.46                        3.60  \n",
       "2022-09-06                    3.47                        3.61  \n",
       "2022-09-02                    3.35                        3.48  \n",
       "2022-09-01                    3.38                        3.51  "
      ]
     },
     "metadata": {},
     "output_type": "display_data"
    }
   ],
   "source": [
    "#The full file path.\n",
    "url='https://www.dropbox.com/scl/fi/wdb24k0dddkpq7qry5sl8/\\\n",
    "daily-treasury-rates-9-22.xlsx?rlkey=qxoo8vpa4iziu5kvi27u6c41l&dl=1'\n",
    "print(f\"Attempting to load data from: {url}\")\n",
    "\n",
    "#Load the data from Excel, using the Date column as the index.\n",
    "try:\n",
    "    Tbill_data_excel = pd.read_excel(url, index_col='Date')\n",
    "\n",
    "    # Display the loaded DataFrame to verify it worked.\n",
    "    display(Tbill_data_excel)\n",
    "\n",
    "except FileNotFoundError:\n",
    "    print(\"\\nERROR: File not found.\")\n",
    "    print(\"Please check that the 'URL' address\")"
   ]
  },
  {
   "cell_type": "markdown",
   "metadata": {
    "id": "zgetKClVecAZ"
   },
   "source": [
    "## ***Accessing Rows of a Pandas DataFrame***\n",
    "\n",
    "#### We've now created a DataFrame, but we still need to access its contents. Three common ways of accessing the rows of a DataFrame are the attributes <font color='green'>loc</font> and <font color='green'>iloc</font> and the method <font color='green'>get_indexer()</font>.  All three ways access rows by the value of the index."
   ]
  },
  {
   "cell_type": "markdown",
   "metadata": {
    "id": "LjVK_7yzecAZ"
   },
   "source": [
    "#### The <font color='green'>loc</font> attribute of a DataFrame accesses a row by using its index value. In the below code, the specific value of the index \"09/15/2022\" is accessed. If the value is not in the index, an error is returned via <font color='green'>except</font>. There are only 30 days in September, so '09/31/2022' fails and the message 'Value Not In Index' is displayed.\n",
    "\n",
    "\n",
    "```\n",
    "try:\n",
    "  display(Tbill_data_excel.loc['09/15/2022'])\n",
    "except:\n",
    "  display('Value Not In Index')\n",
    "try:\n",
    "  display(Tbill_data_excel.loc['09/31/2022'])\n",
    "except:\n",
    "  display('Value Not In Index')\n",
    "```\n",
    "\n",
    "\n",
    "\n"
   ]
  },
  {
   "cell_type": "code",
   "execution_count": 10,
   "metadata": {
    "colab": {
     "base_uri": "https://localhost:8080/",
     "height": 416
    },
    "id": "8wlji8uiecAZ",
    "outputId": "18fc5579-ed91-4093-bc47-b9ff264a4e72"
   },
   "outputs": [
    {
     "data": {
      "text/html": [
       "<div>\n",
       "<style scoped>\n",
       "    .dataframe tbody tr th:only-of-type {\n",
       "        vertical-align: middle;\n",
       "    }\n",
       "\n",
       "    .dataframe tbody tr th {\n",
       "        vertical-align: top;\n",
       "    }\n",
       "\n",
       "    .dataframe thead th {\n",
       "        text-align: right;\n",
       "    }\n",
       "</style>\n",
       "<table border=\"1\" class=\"dataframe\">\n",
       "  <thead>\n",
       "    <tr style=\"text-align: right;\">\n",
       "      <th></th>\n",
       "      <th>4 WEEKS BANK DISCOUNT</th>\n",
       "      <th>4 WEEKS COUPON EQUIVALENT</th>\n",
       "      <th>8 WEEKS BANK DISCOUNT</th>\n",
       "      <th>8 WEEKS COUPON EQUIVALENT</th>\n",
       "      <th>13 WEEKS BANK DISCOUNT</th>\n",
       "      <th>13 WEEKS COUPON EQUIVALENT</th>\n",
       "      <th>26 WEEKS BANK DISCOUNT</th>\n",
       "      <th>26 WEEKS COUPON EQUIVALENT</th>\n",
       "      <th>52 WEEKS BANK DISCOUNT</th>\n",
       "      <th>52 WEEKS COUPON EQUIVALENT</th>\n",
       "    </tr>\n",
       "    <tr>\n",
       "      <th>Date</th>\n",
       "      <th></th>\n",
       "      <th></th>\n",
       "      <th></th>\n",
       "      <th></th>\n",
       "      <th></th>\n",
       "      <th></th>\n",
       "      <th></th>\n",
       "      <th></th>\n",
       "      <th></th>\n",
       "      <th></th>\n",
       "    </tr>\n",
       "  </thead>\n",
       "  <tbody>\n",
       "    <tr>\n",
       "      <th>2022-09-15</th>\n",
       "      <td>2.68</td>\n",
       "      <td>2.72</td>\n",
       "      <td>2.92</td>\n",
       "      <td>2.97</td>\n",
       "      <td>3.12</td>\n",
       "      <td>3.19</td>\n",
       "      <td>3.69</td>\n",
       "      <td>3.81</td>\n",
       "      <td>3.83</td>\n",
       "      <td>4.0</td>\n",
       "    </tr>\n",
       "  </tbody>\n",
       "</table>\n",
       "</div>"
      ],
      "text/plain": [
       "            4 WEEKS BANK DISCOUNT  4 WEEKS COUPON EQUIVALENT  \\\n",
       "Date                                                           \n",
       "2022-09-15                   2.68                       2.72   \n",
       "\n",
       "            8 WEEKS BANK DISCOUNT  8 WEEKS COUPON EQUIVALENT  \\\n",
       "Date                                                           \n",
       "2022-09-15                   2.92                       2.97   \n",
       "\n",
       "            13 WEEKS BANK DISCOUNT  13 WEEKS COUPON EQUIVALENT  \\\n",
       "Date                                                             \n",
       "2022-09-15                    3.12                        3.19   \n",
       "\n",
       "            26 WEEKS BANK DISCOUNT  26 WEEKS COUPON EQUIVALENT  \\\n",
       "Date                                                             \n",
       "2022-09-15                    3.69                        3.81   \n",
       "\n",
       "            52 WEEKS BANK DISCOUNT  52 WEEKS COUPON EQUIVALENT  \n",
       "Date                                                            \n",
       "2022-09-15                    3.83                         4.0  "
      ]
     },
     "metadata": {},
     "output_type": "display_data"
    },
    {
     "data": {
      "text/plain": [
       "'Value Not In Index'"
      ]
     },
     "metadata": {},
     "output_type": "display_data"
    }
   ],
   "source": [
    "try:\n",
    "  display(Tbill_data_excel.loc['09/15/2022'])\n",
    "except:\n",
    "  display('Value Not In Index')\n",
    "try:\n",
    "  display(Tbill_data_excel.loc['09/31/2022'])\n",
    "except:\n",
    "  display('Value Not In Index')"
   ]
  },
  {
   "cell_type": "markdown",
   "metadata": {
    "id": "Gmptgjz4ecAZ"
   },
   "source": [
    "#### The <font color='green'>iloc</font> attribute accesses a row by its indexed integer value. In this case the Date \"09/15/2022\" has an index value of 11. If the integer value is not present, an error is returned. The DataFrame has 21 rows, and so the index value of 45 fails, as shown below.  \n",
    "\n",
    "```\n",
    "try:\n",
    "  display(Tbill_data_excel.iloc[11])\n",
    "except:\n",
    "  display('Value Not In Index')\n",
    "try:\n",
    "  display(Tbill_data_excel.loc[45'])\n",
    "except:\n",
    "  display('Value Not In Index')\n",
    "```\n",
    "\n",
    "---\n",
    "\n"
   ]
  },
  {
   "cell_type": "code",
   "execution_count": 11,
   "metadata": {
    "colab": {
     "base_uri": "https://localhost:8080/",
     "height": 416
    },
    "id": "iEc4kEQOecAZ",
    "outputId": "e21a7fcb-23d4-49b3-f9db-929abbb4cfe9"
   },
   "outputs": [
    {
     "data": {
      "text/plain": [
       "4 WEEKS BANK DISCOUNT         2.68\n",
       "4 WEEKS COUPON EQUIVALENT     2.72\n",
       "8 WEEKS BANK DISCOUNT         2.92\n",
       "8 WEEKS COUPON EQUIVALENT     2.97\n",
       "13 WEEKS BANK DISCOUNT        3.12\n",
       "13 WEEKS COUPON EQUIVALENT    3.19\n",
       "26 WEEKS BANK DISCOUNT        3.69\n",
       "26 WEEKS COUPON EQUIVALENT    3.81\n",
       "52 WEEKS BANK DISCOUNT        3.83\n",
       "52 WEEKS COUPON EQUIVALENT    4.00\n",
       "Name: 2022-09-15 00:00:00, dtype: float64"
      ]
     },
     "metadata": {},
     "output_type": "display_data"
    },
    {
     "data": {
      "text/plain": [
       "'Value Not In Index'"
      ]
     },
     "metadata": {},
     "output_type": "display_data"
    }
   ],
   "source": [
    "try:\n",
    "  display(Tbill_data_excel.iloc[11])\n",
    "except:\n",
    "  display('Value Not In Index')\n",
    "try:\n",
    "  display(Tbill_data_excel.iloc[45])\n",
    "except:\n",
    "  display('Value Not In Index')"
   ]
  },
  {
   "cell_type": "markdown",
   "metadata": {
    "id": "uIQ_hJtVecAZ"
   },
   "source": [
    "#### The Pandas method <font color='green'>get_indexer()</font> returns the indexed integer values for a specific value of the index as an array. In the below example, an array with a single value is returned. For the Date \"09/15/2022\" the value 11 is returned. The <font color='green'>get_indexer()</font> method returns −1 for missing values, which avoids interrupting the code.\n",
    "\n",
    "```\n",
    "displayT(bill_data_excel.index.get_indexer(['09/15/2022'])\n",
    "displayT(bill_data_excel.index.get_indexer(['09/31/2022'])\n",
    "```\n"
   ]
  },
  {
   "cell_type": "code",
   "execution_count": 12,
   "metadata": {
    "colab": {
     "base_uri": "https://localhost:8080/",
     "height": 52
    },
    "id": "WpU3uewOecAa",
    "outputId": "7589afb3-2857-4ffe-ab67-eaf45b027fd5"
   },
   "outputs": [
    {
     "data": {
      "text/plain": [
       "array([11])"
      ]
     },
     "metadata": {},
     "output_type": "display_data"
    },
    {
     "data": {
      "text/plain": [
       "array([-1])"
      ]
     },
     "metadata": {},
     "output_type": "display_data"
    }
   ],
   "source": [
    "#return row number for date '09/15/2022'\n",
    "display(Tbill_data_excel.index.get_indexer(['09/15/2022']))\n",
    "#September has only 30 days, value of -1 returned\n",
    "display(Tbill_data_excel.index.get_indexer(['09/31/2022']))"
   ]
  },
  {
   "cell_type": "markdown",
   "metadata": {
    "id": "PdVLfYXdiNAa"
   },
   "source": [
    "## ***Calculating The Term Structure***\n",
    "#### With the data, we can return to calculating the Term Structure.  Recall that the price of a T-Bill (a zero-coupon bond) is its principal discounted back at the annualized continuous spot rate of interest. The forward rate of interest is the difference of the natural logs of the prices of a shorter maturity and a longer maturity zero-coupon bond. In order to calculate the term structure, we need to first calculate the prices of the T-Bills (the zero coupon prices).\n",
    "\n",
    "### ***Bank Discounts & Coupon Equivalent Yields***\n",
    "#### T-Bills are quoted as bank discounts or coupon eequivalent yields. T-Bill prices are 100 less a bank discount annualized with a 360 day year.\n",
    "\n",
    "$$\\large Bill\\,Price = 100 - bank\\,discount\\times\\frac{Maturity\\,In\\,Days}{360}$$\n",
    "\n",
    "#### The bank discount of the four-week bill on September 15th is 2.68%, which implies a bill price of:\n",
    "\n",
    "$$99.792 = 100 - 2.68\\times\\frac{28}{360}$$\n",
    "\n",
    "#### The coupon equivalent is the annualized rate of return that is calculated with the convention of 365 days per year. The calculation is the actual rate of return (the gain on the bill divided by the bill price) multiplied by 365 divided by the maturity of the bill in days. A four-week bill matures in 28 days, and its coupon equivalent is:\n",
    "\n",
    "$$Coupon\\,Equivalent =\\frac{100 - Bill\\,Price}{Bill\\,Price}\\times\\frac{365}{28}$$\n",
    "\n",
    "\n",
    "\n",
    "\n",
    "#### And a coupon equivalent of:\n",
    "\n",
    "$$2.72\\% =\\frac{100 - 99.792}{99.79}\\times\\frac{365}{28}$$\n"
   ]
  },
  {
   "cell_type": "markdown",
   "metadata": {
    "id": "T8VBpnwA4EUe"
   },
   "source": [
    "### ***Calculating Bond Prices With Bank Discounts***\n",
    "\n",
    "#### The columns of the <font color='green'>Tbill_data_excel</font> DataFrame  are either *BANK DISCOUNT* or *COUPON EQUIVALENT*. We will construct a NumPy array <font color='green'>bank_discount</font> from the *BANK DISCOUNT* columns. The list <font color='green'>desired_columns</font> is created with list comprehension from the columns attribute of <font color='green'>Tbill_data_excel</font>. If the string 'BANK' is in the column name, that column name is added to the list <font color='green'>desired_columns.</font>$^{11,12}$\n",
    "\n",
    "\n",
    "\n",
    "```\n",
    "desired_columns=[column for column in Tbill_data_excel.columns if 'BANK' in column]\n",
    "```\n",
    "#### The column is only added when the if statement is true. The <font color='green'>df_bankers_discount</font> DataFrame is created by including the <font color='green'>desired_column</font> lists as the columns of the <font color='green'>Tbill_data_excel</font> DataFrame, as shown below.\n",
    "```\n",
    "df_bankers_discount=Tbill_data_excel[desired_columns]\n",
    "display(df_bankers_discount[:5])\n",
    "```\n",
    "#### Having the bank discount in NumPy arrays will allow for an easy conversion to bill prices. We can convert <font color='green'>df_bankers_discount</font> into a two-dimensional NumPy array <font color='green'>bankers_discount</font> with the Pandas method <font color='green'>to_numpy()</font>. The first five rows of the array are shown below.$^{13}$\n",
    "\n",
    "\n",
    "```\n",
    "bankers_discount=df_bankers_discount.to_numpy()\n",
    "display(bankers_discount[:5])\n",
    "```\n",
    "---\n",
    "$^{11}$ As shown here, the desired columns could be selected with a for loop:\n",
    "\n",
    "```\n",
    "desired_columns=[]\n",
    "for column in Tbill_data_site.columns:\n",
    "  if 'BANK' in column:desired_columns.append(column)\n",
    "```\n",
    "\n",
    "$^{12}$ See [A First Look At Lists](https://patrickjhess.github.io/Introduction-To-Python-For-Financial-Python/A_First_Look_At_Lists.html#create-a-list-by-iterating-through-a-string-list-comprehension-for-loop).\n",
    "$^{13}$ See [A Quick Introduction To Pandas](https://patrickjhess.github.io/Introduction-To-Python-For-Financial-Python/An_Introduction_To_Pandas.html#pandas-to-numpy).\n"
   ]
  },
  {
   "cell_type": "code",
   "execution_count": 13,
   "metadata": {
    "colab": {
     "base_uri": "https://localhost:8080/",
     "height": 324
    },
    "id": "B4N2qAgUiNAc",
    "outputId": "f45df6aa-8e6e-4612-f38f-6d5df7ce00ae"
   },
   "outputs": [
    {
     "data": {
      "text/html": [
       "<div>\n",
       "<style scoped>\n",
       "    .dataframe tbody tr th:only-of-type {\n",
       "        vertical-align: middle;\n",
       "    }\n",
       "\n",
       "    .dataframe tbody tr th {\n",
       "        vertical-align: top;\n",
       "    }\n",
       "\n",
       "    .dataframe thead th {\n",
       "        text-align: right;\n",
       "    }\n",
       "</style>\n",
       "<table border=\"1\" class=\"dataframe\">\n",
       "  <thead>\n",
       "    <tr style=\"text-align: right;\">\n",
       "      <th></th>\n",
       "      <th>4 WEEKS BANK DISCOUNT</th>\n",
       "      <th>8 WEEKS BANK DISCOUNT</th>\n",
       "      <th>13 WEEKS BANK DISCOUNT</th>\n",
       "      <th>26 WEEKS BANK DISCOUNT</th>\n",
       "      <th>52 WEEKS BANK DISCOUNT</th>\n",
       "    </tr>\n",
       "    <tr>\n",
       "      <th>Date</th>\n",
       "      <th></th>\n",
       "      <th></th>\n",
       "      <th></th>\n",
       "      <th></th>\n",
       "      <th></th>\n",
       "    </tr>\n",
       "  </thead>\n",
       "  <tbody>\n",
       "    <tr>\n",
       "      <th>2022-09-30</th>\n",
       "      <td>2.70</td>\n",
       "      <td>3.07</td>\n",
       "      <td>3.22</td>\n",
       "      <td>3.82</td>\n",
       "      <td>3.87</td>\n",
       "    </tr>\n",
       "    <tr>\n",
       "      <th>2022-09-29</th>\n",
       "      <td>2.68</td>\n",
       "      <td>3.08</td>\n",
       "      <td>3.26</td>\n",
       "      <td>3.78</td>\n",
       "      <td>3.80</td>\n",
       "    </tr>\n",
       "    <tr>\n",
       "      <th>2022-09-28</th>\n",
       "      <td>2.50</td>\n",
       "      <td>2.96</td>\n",
       "      <td>3.29</td>\n",
       "      <td>3.78</td>\n",
       "      <td>3.81</td>\n",
       "    </tr>\n",
       "    <tr>\n",
       "      <th>2022-09-27</th>\n",
       "      <td>2.60</td>\n",
       "      <td>2.99</td>\n",
       "      <td>3.26</td>\n",
       "      <td>3.83</td>\n",
       "      <td>3.97</td>\n",
       "    </tr>\n",
       "    <tr>\n",
       "      <th>2022-09-26</th>\n",
       "      <td>2.64</td>\n",
       "      <td>2.99</td>\n",
       "      <td>3.30</td>\n",
       "      <td>3.87</td>\n",
       "      <td>3.98</td>\n",
       "    </tr>\n",
       "  </tbody>\n",
       "</table>\n",
       "</div>"
      ],
      "text/plain": [
       "            4 WEEKS BANK DISCOUNT  8 WEEKS BANK DISCOUNT  \\\n",
       "Date                                                       \n",
       "2022-09-30                   2.70                   3.07   \n",
       "2022-09-29                   2.68                   3.08   \n",
       "2022-09-28                   2.50                   2.96   \n",
       "2022-09-27                   2.60                   2.99   \n",
       "2022-09-26                   2.64                   2.99   \n",
       "\n",
       "            13 WEEKS BANK DISCOUNT  26 WEEKS BANK DISCOUNT  \\\n",
       "Date                                                         \n",
       "2022-09-30                    3.22                    3.82   \n",
       "2022-09-29                    3.26                    3.78   \n",
       "2022-09-28                    3.29                    3.78   \n",
       "2022-09-27                    3.26                    3.83   \n",
       "2022-09-26                    3.30                    3.87   \n",
       "\n",
       "            52 WEEKS BANK DISCOUNT  \n",
       "Date                                \n",
       "2022-09-30                    3.87  \n",
       "2022-09-29                    3.80  \n",
       "2022-09-28                    3.81  \n",
       "2022-09-27                    3.97  \n",
       "2022-09-26                    3.98  "
      ]
     },
     "metadata": {},
     "output_type": "display_data"
    },
    {
     "data": {
      "text/plain": [
       "array([[2.7 , 3.07, 3.22, 3.82, 3.87],\n",
       "       [2.68, 3.08, 3.26, 3.78, 3.8 ],\n",
       "       [2.5 , 2.96, 3.29, 3.78, 3.81],\n",
       "       [2.6 , 2.99, 3.26, 3.83, 3.97],\n",
       "       [2.64, 2.99, 3.3 , 3.87, 3.98]])"
      ]
     },
     "metadata": {},
     "output_type": "display_data"
    }
   ],
   "source": [
    "# Create a list called 'desired_columns' using a list comprehension.\n",
    "desired_columns = [column for column in Tbill_data_excel.columns if 'BANK' in column]\n",
    "\n",
    "# Create a DataFrame named 'df_bankers_discount' and 'bankers_discont'.\n",
    "df_bankers_discount = Tbill_data_excel[desired_columns]\n",
    "bankers_discount=df_bankers_discount.to_numpy()\n",
    "# Display the first 5 rows of the newly created 'df_bankers_discount' DataFrame.\n",
    "display(df_bankers_discount[:5])\n",
    "display(bankers_discount[:5])"
   ]
  },
  {
   "cell_type": "markdown",
   "metadata": {
    "id": "ZVCPwpWLiNAd"
   },
   "source": [
    "### ***Going from Bankers Discounts to Zero Prices***\n",
    "#### As noted earlier, the price of a bill with a $100 par value is:\n",
    "\n",
    "$$\\large Bill\\,Price = 100 - bank\\,discount\\times\\frac{Maturity\\,In\\,Days}{360}$$\n",
    "#### The price of one dollar or the the zero price is:\n",
    "\n",
    "$$\\large\\frac{100-bank\\,discount\\times\\frac{Maturity\\,In\\,Days}{360}}{100}$$\n",
    "\n",
    "#### The maturity of the bills are 4, 8, 13, 26, and 52 weeks. In the following code, the NumPy array <font color='green'>maturity_days</font> is created by multiplying the number of weeks by seven. The <font color='green'>zero_price_one</font> array is calculated by multiplying <font color='green'>bankers_discount</font> by <font color='green'>maturity_days</font>, annualized with 360 days per year. We then divide by 100 to convert the value to a percentage.\n"
   ]
  },
  {
   "cell_type": "code",
   "execution_count": 14,
   "metadata": {
    "colab": {
     "base_uri": "https://localhost:8080/"
    },
    "id": "mAo17D4eiNAe",
    "outputId": "f45def6a-b9ae-4678-9a79-5c0d8cbf7a02"
   },
   "outputs": [
    {
     "data": {
      "text/plain": [
       "array([[0.9979    , 0.99522444, 0.99186056, 0.98068778, 0.96087   ],\n",
       "       [0.99791556, 0.99520889, 0.99175944, 0.98089   , 0.96157778],\n",
       "       [0.99805556, 0.99539556, 0.99168361, 0.98089   , 0.96147667],\n",
       "       [0.99797778, 0.99534889, 0.99175944, 0.98063722, 0.95985889],\n",
       "       [0.99794667, 0.99534889, 0.99165833, 0.980435  , 0.95975778]])"
      ]
     },
     "execution_count": 14,
     "metadata": {},
     "output_type": "execute_result"
    }
   ],
   "source": [
    "maturity_days=np.array([4*7,8*7,13*7,26*7,52*7]) #Maturity in days calculated\n",
    "#The price formula divides maturity days by 360 to annualize\n",
    "#Then divides by to convert to a bill paying one dollar.\n",
    "zero_prices_one=(100-bankers_discount*maturity_days/360)/100\n",
    "#NumPy performs element by element calculations: a calculation for each\n",
    "#value of maturity_days with the corresponding value of bankers_discount\n",
    "zero_prices_one[:5]   #Display first 5 rows (each row is a trading day for Sept 2022)"
   ]
  },
  {
   "cell_type": "markdown",
   "metadata": {
    "id": "2XducGymiNAe"
   },
   "source": [
    "### ***Spot Rates***\n",
    "#### Recall that the spot rates are the annualized rates calculated from the TiBill data. Spot rates are equal to:\n",
    "\n",
    "$$\\large Spot\\ Rate(T) = \\frac{ln(zero\\ price)}{\\frac{T}{365}}$$\n",
    "\n",
    "#### where $T$ is the number of days.  In the following code, the array <font color='green'>spot_rates</font> is calculated from the <font color='green'>zero_prices_one</font> array. The first five rows of the array are displayed below.\n",
    "\n"
   ]
  },
  {
   "cell_type": "code",
   "execution_count": 15,
   "metadata": {
    "colab": {
     "base_uri": "https://localhost:8080/"
    },
    "id": "mO1n2SlRiNAf",
    "outputId": "3c8c24cc-7e20-465a-8bcf-4cd444e202b5"
   },
   "outputs": [
    {
     "data": {
      "text/plain": [
       "array([[0.02740378, 0.03120095, 0.03278081, 0.03910943, 0.04002581],\n",
       "       [0.02720058, 0.03130283, 0.03318972, 0.03869593, 0.03928746],\n",
       "       [0.0253719 , 0.03008042, 0.03349642, 0.03869593, 0.03939291],\n",
       "       [0.0263878 , 0.030386  , 0.03318972, 0.03921282, 0.04108155],\n",
       "       [0.02679418, 0.030386  , 0.03359866, 0.03962642, 0.04118718]])"
      ]
     },
     "execution_count": 15,
     "metadata": {},
     "output_type": "execute_result"
    }
   ],
   "source": [
    "spot_rates=-np.log(zero_prices_one)/(maturity_days/365) #Maturity_days divided by 365\n",
    "spot_rates[:5] #Display first 5 rows (last 5 trading days of Sept 2022)"
   ]
  },
  {
   "cell_type": "markdown",
   "metadata": {
    "id": "dqpngC2liNAf"
   },
   "source": [
    "### ***Forward Rates***\n",
    "#### The forward rates are calculated with differences in the natural logs of zero prices and assigned to the matrix <font color='green'>forward_rates</font> in the below code. The NumPy method <font color='green'>diff()</font> is used to calculate the difference between the zero prices for adjacent maturities. The arguments of <font color='green'>diff()</font> are the array name and the number of lags between differences. The default value for lags between differences is 1.\n",
    "\n",
    "\n",
    "```\n",
    "forward_rates=-np.diff(np.log(zero_price_one))*365/np.diff(maturity_days)\n",
    "```\n",
    "\n",
    "#### The above line of code warrants a bit of explanation. The <font color='green'>diff()</font> method subtracts the lower indexed value from the higher. In this example, the maturity of four weeks from eight weeks and eight weeks from thirteen and so on. The calculation of forward rates is the reverse (or the negative) value of the <font color='green'>diff()</font> method. The <font color='green'>forward_rates</font> array is assigned the negative value. The <font color='green'>diff()</font> function returns four values (there is no forward rate for the first month). In order to get the spot and forward to line up on the graph, a value is inserted in the forward rate array that is ignored by calculations. The NumPy method <font color='green'>insert()</font> is used to add a column with the value <font color='green'>nan</font> as the first column of the <font color='green'>forward_rates</font> array.$^{12}$  As you might have guessed, <font color='green'>nan</font> stands for 'not a number'.  The arguments of <font color='green'>insert()</font> are the array, position, value, and axis. The rows are <font color='green'>axis 0</font> and the columns are <font color='green'>axis 1</font>. This means that a position of 0 and an axis of 1 inserts the values as the first column.\n",
    "\n",
    "\n",
    "\n",
    "```\n",
    "forward_rates=-np.insert(forward_rates,0,np.nan,axis=1)\n",
    "```\n",
    "\n",
    "#### The first five values of the <font color='green'>forward_rates</font> array are shown below.\n",
    "\n",
    "\n",
    "---\n",
    "\n",
    "$^{12}$ As a reminder, the value <font color='green'>nan</font> is recognized as not a number and is ignored in calculations."
   ]
  },
  {
   "cell_type": "code",
   "execution_count": 16,
   "metadata": {
    "colab": {
     "base_uri": "https://localhost:8080/"
    },
    "id": "_46oi2CGiNAg",
    "outputId": "077b533d-3381-4066-a001-ab7349972001"
   },
   "outputs": [
    {
     "data": {
      "text/plain": [
       "array([[       nan, 0.03499811, 0.03530859, 0.04543804, 0.0409422 ],\n",
       "       [       nan, 0.03540507, 0.03620874, 0.04420214, 0.039879  ],\n",
       "       [       nan, 0.03478894, 0.03896203, 0.04389543, 0.04008989],\n",
       "       [       nan, 0.03438419, 0.03767567, 0.04523591, 0.04295028],\n",
       "       [       nan, 0.03397781, 0.03873893, 0.04565418, 0.04274794]])"
      ]
     },
     "execution_count": 16,
     "metadata": {},
     "output_type": "execute_result"
    }
   ],
   "source": [
    "forward_rates=-np.diff(np.log(zero_prices_one))*365/np.diff(maturity_days) #Sign switched\n",
    "forward_rates=np.insert(forward_rates,0,np.nan,axis=1) #NumPy nan inserted for first month\n",
    "forward_rates[:5] #Display first five dates"
   ]
  },
  {
   "cell_type": "markdown",
   "metadata": {
    "id": "c_Hwt493iNAg"
   },
   "source": [
    "### ***Preparing the Notebook***\n",
    "#### We suggest creating a main folder and subfolders on your local computer or Google Drive to store files (graphs, spreadsheets, and so forth) generated by the Notebooks in *Basic Concepts of Fixed Income*.\n",
    "\n",
    "\n",
    "#### The function <font color='green'>parent_folder_subfolder</font> that was imported from <font color='green'>module_basic_concepts_fixed_income</font> determines default values and allows you to name the parent directory, the folder, and subfolders. The function's single argument is set to <font color='green'>True</Font> by default. If <font color='green'>False</font> is not explicitly passed, the function will attempt to return default values for the parent, folder, and subfolder. Conversely, passing <font color='green'>False</font> will prompt the user for these inputs. Note that the function does not direct output to the parent, folder, or subfolder.\n",
    "\n",
    "\n",
    "\n",
    "*  #### ***Parent Directory: The default is always the current working directory for a local computer, or <font color='green'>/content/drive/MyDrive</font> for Colab***\n",
    "*  #### ***Folder: The default is the volume name.***\n",
    "*  #### ***Subfolder: The default is the chapter name.***\n",
    "\n",
    "#### If you input values, the function corrects errors that prevent the URL from being usable.\n",
    "\n",
    "\n",
    "```\n",
    "parent,folder,subfolder=parent_folder_subfolder()\n",
    "```\n",
    "#### The above returns the values that can be used to create a path.\n"
   ]
  },
  {
   "cell_type": "code",
   "execution_count": 17,
   "metadata": {
    "colab": {
     "base_uri": "https://localhost:8080/",
     "height": 131
    },
    "id": "2QxVgtREiNAg",
    "outputId": "59e4848c-a197-4152-d405-3fd48335c37b"
   },
   "outputs": [
    {
     "ename": "IndexError",
     "evalue": "list index out of range",
     "output_type": "error",
     "traceback": [
      "\u001b[0;31m---------------------------------------------------------------------------\u001b[0m",
      "\u001b[0;31mIndexError\u001b[0m                                Traceback (most recent call last)",
      "\u001b[0;32m/tmp/ipykernel_40048/3824672720.py\u001b[0m in \u001b[0;36m<module>\u001b[0;34m\u001b[0m\n\u001b[0;32m----> 1\u001b[0;31m \u001b[0mparent\u001b[0m\u001b[0;34m,\u001b[0m\u001b[0mfolder\u001b[0m\u001b[0;34m,\u001b[0m\u001b[0msubfolder\u001b[0m\u001b[0;34m=\u001b[0m\u001b[0mparent_folder_subfolder\u001b[0m\u001b[0;34m(\u001b[0m\u001b[0;34m)\u001b[0m\u001b[0;34m\u001b[0m\u001b[0;34m\u001b[0m\u001b[0m\n\u001b[0m",
      "\u001b[0;32m<string>\u001b[0m in \u001b[0;36mparent_folder_subfolder\u001b[0;34m(default)\u001b[0m\n",
      "\u001b[0;32m~/anaconda3/lib/python3.9/site-packages/ipynbname/__init__.py\u001b[0m in \u001b[0;36mname\u001b[0;34m()\u001b[0m\n\u001b[1;32m     91\u001b[0m         \u001b[0;32mor\u001b[0m \u001b[0mraises\u001b[0m \u001b[0ma\u001b[0m \u001b[0mFileNotFoundError\u001b[0m \u001b[0mexception\u001b[0m \u001b[0;32mif\u001b[0m \u001b[0mit\u001b[0m \u001b[0mcannot\u001b[0m \u001b[0mbe\u001b[0m \u001b[0mdetermined\u001b[0m\u001b[0;34m.\u001b[0m\u001b[0;34m\u001b[0m\u001b[0;34m\u001b[0m\u001b[0m\n\u001b[1;32m     92\u001b[0m     \"\"\"\n\u001b[0;32m---> 93\u001b[0;31m     \u001b[0m_\u001b[0m\u001b[0;34m,\u001b[0m \u001b[0mpath\u001b[0m \u001b[0;34m=\u001b[0m \u001b[0m_find_nb_path\u001b[0m\u001b[0;34m(\u001b[0m\u001b[0;34m)\u001b[0m\u001b[0;34m\u001b[0m\u001b[0;34m\u001b[0m\u001b[0m\n\u001b[0m\u001b[1;32m     94\u001b[0m     \u001b[0;32mif\u001b[0m \u001b[0mpath\u001b[0m\u001b[0;34m:\u001b[0m\u001b[0;34m\u001b[0m\u001b[0;34m\u001b[0m\u001b[0m\n\u001b[1;32m     95\u001b[0m         \u001b[0;32mreturn\u001b[0m \u001b[0mpath\u001b[0m\u001b[0;34m.\u001b[0m\u001b[0mstem\u001b[0m\u001b[0;34m\u001b[0m\u001b[0;34m\u001b[0m\u001b[0m\n",
      "\u001b[0;32m~/anaconda3/lib/python3.9/site-packages/ipynbname/__init__.py\u001b[0m in \u001b[0;36m_find_nb_path\u001b[0;34m()\u001b[0m\n\u001b[1;32m     73\u001b[0m \u001b[0;32mdef\u001b[0m \u001b[0m_find_nb_path\u001b[0m\u001b[0;34m(\u001b[0m\u001b[0;34m)\u001b[0m \u001b[0;34m->\u001b[0m \u001b[0mUnion\u001b[0m\u001b[0;34m[\u001b[0m\u001b[0mTuple\u001b[0m\u001b[0;34m[\u001b[0m\u001b[0mdict\u001b[0m\u001b[0;34m,\u001b[0m \u001b[0mPurePath\u001b[0m\u001b[0;34m]\u001b[0m\u001b[0;34m,\u001b[0m \u001b[0mTuple\u001b[0m\u001b[0;34m[\u001b[0m\u001b[0;32mNone\u001b[0m\u001b[0;34m,\u001b[0m \u001b[0;32mNone\u001b[0m\u001b[0;34m]\u001b[0m\u001b[0;34m]\u001b[0m\u001b[0;34m:\u001b[0m\u001b[0;34m\u001b[0m\u001b[0;34m\u001b[0m\u001b[0m\n\u001b[1;32m     74\u001b[0m     \u001b[0;32mtry\u001b[0m\u001b[0;34m:\u001b[0m\u001b[0;34m\u001b[0m\u001b[0;34m\u001b[0m\u001b[0m\n\u001b[0;32m---> 75\u001b[0;31m         \u001b[0mkernel_id\u001b[0m \u001b[0;34m=\u001b[0m \u001b[0m_get_kernel_id\u001b[0m\u001b[0;34m(\u001b[0m\u001b[0;34m)\u001b[0m\u001b[0;34m\u001b[0m\u001b[0;34m\u001b[0m\u001b[0m\n\u001b[0m\u001b[1;32m     76\u001b[0m     \u001b[0;32mexcept\u001b[0m \u001b[0;34m(\u001b[0m\u001b[0mMultipleInstanceError\u001b[0m\u001b[0;34m,\u001b[0m \u001b[0mRuntimeError\u001b[0m\u001b[0;34m)\u001b[0m\u001b[0;34m:\u001b[0m\u001b[0;34m\u001b[0m\u001b[0;34m\u001b[0m\u001b[0m\n\u001b[1;32m     77\u001b[0m         \u001b[0;32mreturn\u001b[0m \u001b[0;32mNone\u001b[0m\u001b[0;34m,\u001b[0m \u001b[0;32mNone\u001b[0m  \u001b[0;31m# Could not determine\u001b[0m\u001b[0;34m\u001b[0m\u001b[0;34m\u001b[0m\u001b[0m\n",
      "\u001b[0;32m~/anaconda3/lib/python3.9/site-packages/ipynbname/__init__.py\u001b[0m in \u001b[0;36m_get_kernel_id\u001b[0;34m()\u001b[0m\n\u001b[1;32m     46\u001b[0m     \"\"\"\n\u001b[1;32m     47\u001b[0m     \u001b[0mconnection_file\u001b[0m \u001b[0;34m=\u001b[0m \u001b[0mPath\u001b[0m\u001b[0;34m(\u001b[0m\u001b[0mipykernel\u001b[0m\u001b[0;34m.\u001b[0m\u001b[0mget_connection_file\u001b[0m\u001b[0;34m(\u001b[0m\u001b[0;34m)\u001b[0m\u001b[0;34m)\u001b[0m\u001b[0;34m.\u001b[0m\u001b[0mstem\u001b[0m\u001b[0;34m\u001b[0m\u001b[0;34m\u001b[0m\u001b[0m\n\u001b[0;32m---> 48\u001b[0;31m     \u001b[0mkernel_id\u001b[0m \u001b[0;34m=\u001b[0m \u001b[0mconnection_file\u001b[0m\u001b[0;34m.\u001b[0m\u001b[0msplit\u001b[0m\u001b[0;34m(\u001b[0m\u001b[0;34m'-'\u001b[0m\u001b[0;34m,\u001b[0m \u001b[0;36m1\u001b[0m\u001b[0;34m)\u001b[0m\u001b[0;34m[\u001b[0m\u001b[0;36m1\u001b[0m\u001b[0;34m]\u001b[0m\u001b[0;34m\u001b[0m\u001b[0;34m\u001b[0m\u001b[0m\n\u001b[0m\u001b[1;32m     49\u001b[0m     \u001b[0;32mreturn\u001b[0m \u001b[0mkernel_id\u001b[0m\u001b[0;34m\u001b[0m\u001b[0;34m\u001b[0m\u001b[0m\n\u001b[1;32m     50\u001b[0m \u001b[0;34m\u001b[0m\u001b[0m\n",
      "\u001b[0;31mIndexError\u001b[0m: list index out of range"
     ]
    }
   ],
   "source": [
    "parent,folder,subfolder=parent_folder_subfolder()"
   ]
  },
  {
   "cell_type": "markdown",
   "metadata": {
    "id": "0V6iFa_tiNAg"
   },
   "source": [
    "## ***Graphing the Term Structure***\n",
    "#### The function <font color='green'>one_y_axis()</font> graphs values on a single *y*-axis. If the <font color='green'>save_config</font> dictionary has a value assigned to one of its four keys (<font color='green'>Parent</font>, <font color='green'>Folder</font>, <font color='green'>Subfolder</font>,and <font color='green'>File</font>), <font color='green'>one_y_axis()</font> will attempt to save the plot as a PDF.\n",
    "\n",
    "\n",
    "#### The values returned by <font color='green'>create_path_folder()</font> and <font color='green'>T-Bill Term Structure: 9-15-2022.pdf</font> are assigned to the four keys, shown below.$^{12}$. If no values are assigned, the graph will not be saved.\n",
    "\n",
    "\n",
    "\n",
    "```\n",
    "save_config={}\n",
    "save_config['Parent']=parent\n",
    "save_config['Folder']=folder\n",
    "save_config['Subfolder']=subfolder\n",
    "save_config['File]='T-Bill Term Structure: 9-15-2022.pdf'\n",
    "```\n",
    "\n",
    "\n",
    "\n",
    "\n",
    "---\n",
    "$^{12}$ [Introduction To Dictionaries](https://patrickjhess.github.io/Introduction-To-Python-For-Financial-Python/Dictionaries.html#an-introduction-to-dictionaries)\n"
   ]
  },
  {
   "cell_type": "code",
   "execution_count": null,
   "metadata": {
    "id": "tmxF1N82DIET"
   },
   "outputs": [],
   "source": [
    "save_config={}\n",
    "\n",
    "'''\n",
    "save_config['Parent']=parent\n",
    "save_config['Folder']=folder\n",
    "save_config['Subfolder']=subfolder\n",
    "save_config['File']='T-Bill Term Structure: 9-15-2022.pdf'\n",
    "'''"
   ]
  },
  {
   "cell_type": "markdown",
   "metadata": {
    "id": "yClSvtbdiNAh"
   },
   "source": [
    "### ***Graphing the Spot and Forward Rates for September 15, 2022***\n",
    "#### In the following code, the *x*-axis is set at the five maturities of the bills in months. Forward and spot rates are calculated for the month of September 2022, and the data for September 15, 2022, is plotted.\n",
    "\n",
    "```\n",
    "xaxis=['One','Two','Three','Six','Twelve']\n",
    "string_date='09/15/2022'\n",
    "```\n",
    "\n",
    "#### Since they lack index columns, the correct rows of the NumPy arrays <font color='green'>spot_rates</font> and <font color='green'>forward_rates</font> cannot be determined from the value of <font color='green'>string_date</font>. Because the rows of the arrays correspond to the rows of the DataFrame, the correct row is determined with the Pandas method <font color='green'>get_indexer()</font>. The method returns an array with index values corresponding to the argument. The spot- and forward-rate rows for September 15, 2022, are then multiplied by 100 and assigned to the list <font color='green'>data</font>.\n",
    "```\n",
    "loc=Tbill_data.index.get_indexer([string_date])[0]\n",
    "data=[spot_rates[loc]*100,forward_rates[loc]*100]\n",
    "```\n",
    "\n",
    "#### The plot title is assigned whatever value is assigned to <font color='green'>save_config['File Name']</font> (minus the PDF extension).\n",
    "\n",
    "\n",
    "\n",
    "```\n",
    "try:                    \n",
    "  title = os.path.splitext(save_config['File'])              \n",
    "except:\n",
    "  title='Add A Title'\n",
    "```\n",
    "#### Series names, labels, and markers are then assigned.\n",
    "\n",
    "```\n",
    "series = ['Spot Rate', 'Forward Rate']\n",
    "ylabel = 'Continuous Compounded Annualized % Rates'\n",
    "xlabel = 'Maturity In Months'\n",
    "x = len(data)\n",
    "markers = ['<','>']*round(x/2+x%2+0.001)\n",
    "```\n",
    "\n",
    "#### The upper limit of the *y*-axis is assigned to <font color='green'>upper</font> and calculated from the maximum value of the spot and forward rates. The NumPy method <font color='green'>nanmax()</font> ignores <font color='green'>nan</font> values. The maximum of <font color='green'>nanmax()</font> of spot rates (<font color='green'>data[0]</font>) and forward rates (<font color='green'>data[1]</font>) plus 0.5% are assigned to <font color='green'>upper </font>. The lower limit is set to 0, and the size and colors of the lines are set as 10,6 and red and blue, respectively.\n",
    "\n",
    "\n",
    "\n",
    "```\n",
    "lower = 0\n",
    "upper = max(np.nanmax(data[0]), np.nanmax(data[1])) + 0.5\n",
    "ylim = [lower, upper]\n",
    "size = (10, 6)  \n",
    "colors=['r','b']\n",
    "```\n",
    "#### Finally, the graph is generated and saved with <font color='green'>one_y_axis()</font> (see **Figure 1**).\n",
    "\n",
    "\n",
    "```\n",
    "one_y_axis(xaxis, data, title, series, xlabel, ylabel, markers, size, ylim,\n",
    "           save_config=save_config,colors=colors)\n",
    "```\n"
   ]
  },
  {
   "cell_type": "code",
   "execution_count": null,
   "metadata": {
    "colab": {
     "base_uri": "https://localhost:8080/",
     "height": 610
    },
    "id": "d6wipgrWiNAh",
    "outputId": "924946f6-f8fa-4dac-cd2d-672ef43067a2"
   },
   "outputs": [
    {
     "data": {
      "image/png": "[encoded data removed]",
      "text/plain": [
       "<Figure size 1000x600 with 1 Axes>"
      ]
     },
     "metadata": {},
     "output_type": "display_data"
    }
   ],
   "source": [
    "# Define the labels for the x-axis, representing different maturities.\n",
    "xaxis = ['One', 'Two', 'Three', 'Six', 'Twelve']\n",
    "\n",
    "# Define the specific date for which the term structure will be plotted.\n",
    "string_date = '09/15/2022'\n",
    "\n",
    "# Get the integer location (row index) of the specified 'string_date' in the DataFrame's index..\n",
    "loc = Tbill_data_excel.index.get_indexer([string_date])[0]\n",
    "\n",
    "# Prepare the data to be plotted on the y-axis (as %).\n",
    "data = [spot_rates[loc]*100, forward_rates[loc]*100]\n",
    "\n",
    "# Attempt to extract the plot title from the file name.\n",
    "try:\n",
    "    title = os.path.splitext(save_config['File'])[0]\n",
    "#'File Name' key not found or string is too short), set a default title.\n",
    "except:\n",
    "    title = 'September 15, 2022'\n",
    "\n",
    "# Define the names for the data series that will appear in the plot's legend.\n",
    "series = ['Spot Rate', 'Forward Rate']\n",
    "\n",
    "# Define the label for the y-axis.\n",
    "ylabel = 'Continuous Compounded Annualized % Rates'\n",
    "\n",
    "# Define the label for the x-axis.\n",
    "xlabel = 'Maturity In Months'\n",
    "\n",
    "#'data' contains two series (spot and forward rates).\n",
    "x = len(data)\n",
    "\n",
    "# Define markers for the plot.\n",
    "markers = ['<','>']*round(x/2+x%2+0.001)\n",
    "\n",
    "# Define the lower bound for the y-axis.\n",
    "lower = 0\n",
    "\n",
    "# Define the upper bound for the y-axis.\n",
    "# considering NaN values (not a number) and adds a small buffer (0.5) for padding.\n",
    "upper = max(np.nanmax(data[0]), np.nanmax(data[1])) + 0.5\n",
    "\n",
    "# Define the y-axis limits (minimum and maximum values).\n",
    "ylim = [lower, upper]\n",
    "\n",
    "# Define the size of the plot (width, height) in inches.\n",
    "size = (10, 6)\n",
    "# Define colors as red and blue\n",
    "colors=['r','b']\n",
    "# This function generates and possibly saves a plot.\n",
    "one_y_axis(xaxis, data, title, series, xlabel, ylabel, markers, size, ylim,\n",
    "           save_config=save_config,colors=colors)"
   ]
  },
  {
   "cell_type": "markdown",
   "metadata": {
    "id": "3C5wBU4kBp5z"
   },
   "source": [
    "## ***Accessing the T-Bill Data Directly from the US Department of the Treasury (Treasury)***\n",
    "#### <br>**Figure 2** shows a screenshot of the Treasury page and its data tool. A selected time period determines a URL to the Download CSV link.  In our example the year is set to 2025 and the month is September. As we will see below, the URL includes the sting of a four digit year and a two digit month ('202509').\n",
    "\n",
    "#### The link to the [Daily Treasury Bill Rates on the Treasury Site](https://home.treasury.gov/resource-center/data-chart-center/interest-rates/TextView?type=daily_treasury_bill_rates)\n",
    "\n",
    "&nbsp;&nbsp;&nbsp;&nbsp;&nbsp;&nbsp;&nbsp;&nbsp;**Figure 2. Accessing T-bill rates**\n",
    "\n",
    "<img  src='https://docs.google.com/drawings/d/e/2PACX-1vTiHivEYXBe1dqoYji4_KM859JuQ5eyt5zeOOq59grAnhoJFY-Cg-7q610W0YZvPJ9cL7Vi22uC-5me/pub?w=960&h=720'><img>\n",
    "Source: \"Daily Treasury Bill Rates,\" US Department of the Treasury, 2025 (accessed Sept. 24, 2025)\n",
    "\n"
   ]
  },
  {
   "cell_type": "markdown",
   "metadata": {
    "id": "dq7-ZlA7Pjsp"
   },
   "source": [
    "## ***Changing The URL And Using The Pandas Method <font color='green'>read_csv</font>***\n",
    "#### The data is accessed directly from the Treasury as a CSV file, and the code below displays the data row for September 30, 2025. With the exception of the URL value and the <font color='green'>read_csv</font> versus <font color='green'>read_excel</font>, the code is identical to what we used to create <font color='green'>Tbill_data_excel</font>. In this example, the URL points to a Treasury site instead of DropBox.  The URL is copied by right clicking the Download CSV link on the Treasury site.  The URL for a particular year and month is shown below. <font color='green'>data_date</font> is assigned the string '202509'.  You can assign it any year and month after 2022. As of November 3 2025, dates prior to 2022 will be moved to a historical page.\n",
    "\n",
    "\n",
    "\n",
    "```\n",
    "data_date='202509'\n",
    "url='https://home.treasury.gov/resource-center/data-chart-center/\\\n",
    "interest-rates/daily-treasury-rates.csv/all/'+data_date+'?\\\n",
    "type=daily_treasury_bill_rates&field_tdr_date_value_month=+'data_date'+&page&_format=csv'\n",
    "```\n",
    "\n",
    "#### The csv file is descending order of the dates.  The first row is for September 30$^{th}$ and is displayed with <font color='green'>iloc[0]</font>\n",
    "\n"
   ]
  },
  {
   "cell_type": "code",
   "execution_count": null,
   "metadata": {
    "colab": {
     "base_uri": "https://localhost:8080/",
     "height": 560
    },
    "id": "2CGXpjyR30ue",
    "outputId": "ef8c84aa-29fe-4f91-aa50-ea2208e894c2"
   },
   "outputs": [
    {
     "name": "stdout",
     "output_type": "stream",
     "text": [
      "Attempting to load data from https://home.treasury.gov/resource-center/data-chart-center/interest-rates/daily-treasury-rates.csv/all/202509?type=daily_treasury_bill_rates&field_tdr_date_value_month=202509&page&_format=csv\n"
     ]
    },
    {
     "data": {
      "text/html": [
       "<div>\n",
       "<style scoped>\n",
       "    .dataframe tbody tr th:only-of-type {\n",
       "        vertical-align: middle;\n",
       "    }\n",
       "\n",
       "    .dataframe tbody tr th {\n",
       "        vertical-align: top;\n",
       "    }\n",
       "\n",
       "    .dataframe thead th {\n",
       "        text-align: right;\n",
       "    }\n",
       "</style>\n",
       "<table border=\"1\" class=\"dataframe\">\n",
       "  <thead>\n",
       "    <tr style=\"text-align: right;\">\n",
       "      <th></th>\n",
       "      <th>09/30/2025</th>\n",
       "    </tr>\n",
       "  </thead>\n",
       "  <tbody>\n",
       "    <tr>\n",
       "      <th>4 WEEKS BANK DISCOUNT</th>\n",
       "      <td>4.05</td>\n",
       "    </tr>\n",
       "    <tr>\n",
       "      <th>4 WEEKS COUPON EQUIVALENT</th>\n",
       "      <td>4.12</td>\n",
       "    </tr>\n",
       "    <tr>\n",
       "      <th>6 WEEKS BANK DISCOUNT</th>\n",
       "      <td>4.02</td>\n",
       "    </tr>\n",
       "    <tr>\n",
       "      <th>6 WEEKS COUPON EQUIVALENT</th>\n",
       "      <td>4.10</td>\n",
       "    </tr>\n",
       "    <tr>\n",
       "      <th>8 WEEKS BANK DISCOUNT</th>\n",
       "      <td>4.00</td>\n",
       "    </tr>\n",
       "    <tr>\n",
       "      <th>8 WEEKS COUPON EQUIVALENT</th>\n",
       "      <td>4.08</td>\n",
       "    </tr>\n",
       "    <tr>\n",
       "      <th>13 WEEKS BANK DISCOUNT</th>\n",
       "      <td>3.86</td>\n",
       "    </tr>\n",
       "    <tr>\n",
       "      <th>13 WEEKS COUPON EQUIVALENT</th>\n",
       "      <td>3.95</td>\n",
       "    </tr>\n",
       "    <tr>\n",
       "      <th>17 WEEKS BANK DISCOUNT</th>\n",
       "      <td>3.83</td>\n",
       "    </tr>\n",
       "    <tr>\n",
       "      <th>17 WEEKS COUPON EQUIVALENT</th>\n",
       "      <td>3.93</td>\n",
       "    </tr>\n",
       "    <tr>\n",
       "      <th>26 WEEKS BANK DISCOUNT</th>\n",
       "      <td>3.72</td>\n",
       "    </tr>\n",
       "    <tr>\n",
       "      <th>26 WEEKS COUPON EQUIVALENT</th>\n",
       "      <td>3.84</td>\n",
       "    </tr>\n",
       "    <tr>\n",
       "      <th>52 WEEKS BANK DISCOUNT</th>\n",
       "      <td>3.53</td>\n",
       "    </tr>\n",
       "    <tr>\n",
       "      <th>52 WEEKS COUPON EQUIVALENT</th>\n",
       "      <td>3.68</td>\n",
       "    </tr>\n",
       "  </tbody>\n",
       "</table>\n",
       "</div><br><label><b>dtype:</b> float64</label>"
      ],
      "text/plain": [
       "4 WEEKS BANK DISCOUNT         4.05\n",
       "4 WEEKS COUPON EQUIVALENT     4.12\n",
       "6 WEEKS BANK DISCOUNT         4.02\n",
       "6 WEEKS COUPON EQUIVALENT     4.10\n",
       "8 WEEKS BANK DISCOUNT         4.00\n",
       "8 WEEKS COUPON EQUIVALENT     4.08\n",
       "13 WEEKS BANK DISCOUNT        3.86\n",
       "13 WEEKS COUPON EQUIVALENT    3.95\n",
       "17 WEEKS BANK DISCOUNT        3.83\n",
       "17 WEEKS COUPON EQUIVALENT    3.93\n",
       "26 WEEKS BANK DISCOUNT        3.72\n",
       "26 WEEKS COUPON EQUIVALENT    3.84\n",
       "52 WEEKS BANK DISCOUNT        3.53\n",
       "52 WEEKS COUPON EQUIVALENT    3.68\n",
       "Name: 09/30/2025, dtype: float64"
      ]
     },
     "metadata": {},
     "output_type": "display_data"
    }
   ],
   "source": [
    "#Read the csv file from the U.S. Treasury website\n",
    "#Construct the full file path.\n",
    "data_date='202509'\n",
    "url='https://home.treasury.gov/resource-center/data-chart-center/\\\n",
    "interest-rates/daily-treasury-rates.csv/all/'+data_date+'?\\\n",
    "type=daily_treasury_bill_rates&field_tdr_date_value_month='+data_date+'&page&_format=csv'\n",
    "print(f\"Attempting to load data from {url}\")\n",
    "\n",
    "#Load the data from csv, using the Date column as the index.\n",
    "try:\n",
    "    Tbill_data_site = pd.read_csv(url,index_col='Date')\n",
    "    # display September 30, 2025 data\n",
    "    display(Tbill_data_site.iloc[0])\n",
    "\n",
    "except FileNotFoundError:\n",
    "    display(\"\\nERROR: File not found.\")\n",
    "    display(\"Please check that the 'URL' address\")"
   ]
  },
  {
   "cell_type": "markdown",
   "metadata": {
    "id": "t5mNjjP8V6xV"
   },
   "source": [
    "\n",
    "\n",
    "### <font color='blue'> ***Application: Downloading Treasury Data***</font>\n",
    "\n",
    "### <font color='blue'>***Access September 2024 T-Bill Data from the US Treasury and display the values for September 12, 2024.***\n",
    "[***Hint Download U.S. Treasury data September 2024***](https://patrickjhess.github.io/Hints-Results/Chapter_One_Hints.html#download-data-for-september-2024-from-the-u-s-treasury-and-display-the-values-for-september-12-2024)\n",
    "\n",
    "[***Expected Results***](https://patrickjhess.github.io/Hints-Results/Chapter_One_Results.html#download-data-for-september-2024-from-the-u-s-treasury-and-display-the-values-for-september-12-2024)\n"
   ]
  },
  {
   "cell_type": "markdown",
   "metadata": {
    "id": "bH0ZuJ1HffRT"
   },
   "source": [
    "## ***Using the CSV File to Calculate Term Structure***\n"
   ]
  },
  {
   "cell_type": "code",
   "execution_count": null,
   "metadata": {
    "colab": {
     "base_uri": "https://localhost:8080/",
     "height": 255
    },
    "id": "WVnauwIpjsbg",
    "outputId": "44415e5a-24c6-4ec7-bc75-3b3253b81c98"
   },
   "outputs": [
    {
     "data": {
      "application/vnd.google.colaboratory.intrinsic+json": {
       "summary": "{\n  \"name\": \"df_bankers_discount[:5]\",\n  \"rows\": 5,\n  \"fields\": [\n    {\n      \"column\": \"Date\",\n      \"properties\": {\n        \"dtype\": \"object\",\n        \"num_unique_values\": 5,\n        \"samples\": [\n          \"09/29/2025\",\n          \"09/24/2025\",\n          \"09/26/2025\"\n        ],\n        \"semantic_type\": \"\",\n        \"description\": \"\"\n      }\n    },\n    {\n      \"column\": \"4 WEEKS BANK DISCOUNT\",\n      \"properties\": {\n        \"dtype\": \"number\",\n        \"std\": 0.0230217288664429,\n        \"min\": 4.02,\n        \"max\": 4.08,\n        \"num_unique_values\": 5,\n        \"samples\": [\n          4.06,\n          4.02,\n          4.07\n        ],\n        \"semantic_type\": \"\",\n        \"description\": \"\"\n      }\n    },\n    {\n      \"column\": \"6 WEEKS BANK DISCOUNT\",\n      \"properties\": {\n        \"dtype\": \"number\",\n        \"std\": 0.005477225575052031,\n        \"min\": 4.02,\n        \"max\": 4.03,\n        \"num_unique_values\": 2,\n        \"samples\": [\n          4.03,\n          4.02\n        ],\n        \"semantic_type\": \"\",\n        \"description\": \"\"\n      }\n    },\n    {\n      \"column\": \"8 WEEKS BANK DISCOUNT\",\n      \"properties\": {\n        \"dtype\": \"number\",\n        \"std\": 0.01095445115010327,\n        \"min\": 3.98,\n        \"max\": 4.01,\n        \"num_unique_values\": 3,\n        \"samples\": [\n          4.0,\n          4.01\n        ],\n        \"semantic_type\": \"\",\n        \"description\": \"\"\n      }\n    },\n    {\n      \"column\": \"13 WEEKS BANK DISCOUNT\",\n      \"properties\": {\n        \"dtype\": \"number\",\n        \"std\": 0.012247448713915992,\n        \"min\": 3.86,\n        \"max\": 3.89,\n        \"num_unique_values\": 3,\n        \"samples\": [\n          3.86,\n          3.87\n        ],\n        \"semantic_type\": \"\",\n        \"description\": \"\"\n      }\n    },\n    {\n      \"column\": \"17 WEEKS BANK DISCOUNT\",\n      \"properties\": {\n        \"dtype\": \"number\",\n        \"std\": 0.01095445115010327,\n        \"min\": 3.81,\n        \"max\": 3.84,\n        \"num_unique_values\": 3,\n        \"samples\": [\n          3.83,\n          3.84\n        ],\n        \"semantic_type\": \"\",\n        \"description\": \"\"\n      }\n    },\n    {\n      \"column\": \"26 WEEKS BANK DISCOUNT\",\n      \"properties\": {\n        \"dtype\": \"number\",\n        \"std\": 0.013038404810405241,\n        \"min\": 3.72,\n        \"max\": 3.75,\n        \"num_unique_values\": 4,\n        \"samples\": [\n          3.73,\n          3.75\n        ],\n        \"semantic_type\": \"\",\n        \"description\": \"\"\n      }\n    },\n    {\n      \"column\": \"52 WEEKS BANK DISCOUNT\",\n      \"properties\": {\n        \"dtype\": \"number\",\n        \"std\": 0.019235384061671225,\n        \"min\": 3.49,\n        \"max\": 3.54,\n        \"num_unique_values\": 4,\n        \"samples\": [\n          3.52,\n          3.49\n        ],\n        \"semantic_type\": \"\",\n        \"description\": \"\"\n      }\n    }\n  ]\n}",
       "type": "dataframe"
      },
      "text/html": [
       "\n",
       "  <div id=\"df-c3fa6e34-84dc-402f-b645-07c83c933f30\" class=\"colab-df-container\">\n",
       "    <div>\n",
       "<style scoped>\n",
       "    .dataframe tbody tr th:only-of-type {\n",
       "        vertical-align: middle;\n",
       "    }\n",
       "\n",
       "    .dataframe tbody tr th {\n",
       "        vertical-align: top;\n",
       "    }\n",
       "\n",
       "    .dataframe thead th {\n",
       "        text-align: right;\n",
       "    }\n",
       "</style>\n",
       "<table border=\"1\" class=\"dataframe\">\n",
       "  <thead>\n",
       "    <tr style=\"text-align: right;\">\n",
       "      <th></th>\n",
       "      <th>4 WEEKS BANK DISCOUNT</th>\n",
       "      <th>6 WEEKS BANK DISCOUNT</th>\n",
       "      <th>8 WEEKS BANK DISCOUNT</th>\n",
       "      <th>13 WEEKS BANK DISCOUNT</th>\n",
       "      <th>17 WEEKS BANK DISCOUNT</th>\n",
       "      <th>26 WEEKS BANK DISCOUNT</th>\n",
       "      <th>52 WEEKS BANK DISCOUNT</th>\n",
       "    </tr>\n",
       "    <tr>\n",
       "      <th>Date</th>\n",
       "      <th></th>\n",
       "      <th></th>\n",
       "      <th></th>\n",
       "      <th></th>\n",
       "      <th></th>\n",
       "      <th></th>\n",
       "      <th></th>\n",
       "    </tr>\n",
       "  </thead>\n",
       "  <tbody>\n",
       "    <tr>\n",
       "      <th>09/30/2025</th>\n",
       "      <td>4.05</td>\n",
       "      <td>4.02</td>\n",
       "      <td>4.00</td>\n",
       "      <td>3.86</td>\n",
       "      <td>3.83</td>\n",
       "      <td>3.72</td>\n",
       "      <td>3.53</td>\n",
       "    </tr>\n",
       "    <tr>\n",
       "      <th>09/29/2025</th>\n",
       "      <td>4.06</td>\n",
       "      <td>4.03</td>\n",
       "      <td>4.00</td>\n",
       "      <td>3.86</td>\n",
       "      <td>3.83</td>\n",
       "      <td>3.73</td>\n",
       "      <td>3.52</td>\n",
       "    </tr>\n",
       "    <tr>\n",
       "      <th>09/26/2025</th>\n",
       "      <td>4.07</td>\n",
       "      <td>4.03</td>\n",
       "      <td>4.00</td>\n",
       "      <td>3.87</td>\n",
       "      <td>3.83</td>\n",
       "      <td>3.74</td>\n",
       "      <td>3.53</td>\n",
       "    </tr>\n",
       "    <tr>\n",
       "      <th>09/25/2025</th>\n",
       "      <td>4.08</td>\n",
       "      <td>4.03</td>\n",
       "      <td>4.01</td>\n",
       "      <td>3.89</td>\n",
       "      <td>3.84</td>\n",
       "      <td>3.75</td>\n",
       "      <td>3.54</td>\n",
       "    </tr>\n",
       "    <tr>\n",
       "      <th>09/24/2025</th>\n",
       "      <td>4.02</td>\n",
       "      <td>4.02</td>\n",
       "      <td>3.98</td>\n",
       "      <td>3.87</td>\n",
       "      <td>3.81</td>\n",
       "      <td>3.72</td>\n",
       "      <td>3.49</td>\n",
       "    </tr>\n",
       "  </tbody>\n",
       "</table>\n",
       "</div>\n",
       "    <div class=\"colab-df-buttons\">\n",
       "\n",
       "  <div class=\"colab-df-container\">\n",
       "    <button class=\"colab-df-convert\" onclick=\"convertToInteractive('df-c3fa6e34-84dc-402f-b645-07c83c933f30')\"\n",
       "            title=\"Convert this dataframe to an interactive table.\"\n",
       "            style=\"display:none;\">\n",
       "\n",
       "  <svg xmlns=\"http://www.w3.org/2000/svg\" height=\"24px\" viewBox=\"0 -960 960 960\">\n",
       "    <path d=\"M120-120v-720h720v720H120Zm60-500h600v-160H180v160Zm220 220h160v-160H400v160Zm0 220h160v-160H400v160ZM180-400h160v-160H180v160Zm440 0h160v-160H620v160ZM180-180h160v-160H180v160Zm440 0h160v-160H620v160Z\"/>\n",
       "  </svg>\n",
       "    </button>\n",
       "\n",
       "  <style>\n",
       "    .colab-df-container {\n",
       "      display:flex;\n",
       "      gap: 12px;\n",
       "    }\n",
       "\n",
       "    .colab-df-convert {\n",
       "      background-color: #E8F0FE;\n",
       "      border: none;\n",
       "      border-radius: 50%;\n",
       "      cursor: pointer;\n",
       "      display: none;\n",
       "      fill: #1967D2;\n",
       "      height: 32px;\n",
       "      padding: 0 0 0 0;\n",
       "      width: 32px;\n",
       "    }\n",
       "\n",
       "    .colab-df-convert:hover {\n",
       "      background-color: #E2EBFA;\n",
       "      box-shadow: 0px 1px 2px rgba(60, 64, 67, 0.3), 0px 1px 3px 1px rgba(60, 64, 67, 0.15);\n",
       "      fill: #174EA6;\n",
       "    }\n",
       "\n",
       "    .colab-df-buttons div {\n",
       "      margin-bottom: 4px;\n",
       "    }\n",
       "\n",
       "    [theme=dark] .colab-df-convert {\n",
       "      background-color: #3B4455;\n",
       "      fill: #D2E3FC;\n",
       "    }\n",
       "\n",
       "    [theme=dark] .colab-df-convert:hover {\n",
       "      background-color: #434B5C;\n",
       "      box-shadow: 0px 1px 3px 1px rgba(0, 0, 0, 0.15);\n",
       "      filter: drop-shadow(0px 1px 2px rgba(0, 0, 0, 0.3));\n",
       "      fill: #FFFFFF;\n",
       "    }\n",
       "  </style>\n",
       "\n",
       "    <script>\n",
       "      const buttonEl =\n",
       "        document.querySelector('#df-c3fa6e34-84dc-402f-b645-07c83c933f30 button.colab-df-convert');\n",
       "      buttonEl.style.display =\n",
       "        google.colab.kernel.accessAllowed ? 'block' : 'none';\n",
       "\n",
       "      async function convertToInteractive(key) {\n",
       "        const element = document.querySelector('#df-c3fa6e34-84dc-402f-b645-07c83c933f30');\n",
       "        const dataTable =\n",
       "          await google.colab.kernel.invokeFunction('convertToInteractive',\n",
       "                                                    [key], {});\n",
       "        if (!dataTable) return;\n",
       "\n",
       "        const docLinkHtml = 'Like what you see? Visit the ' +\n",
       "          '<a target=\"_blank\" href=https://colab.research.google.com/notebooks/data_table.ipynb>data table notebook</a>'\n",
       "          + ' to learn more about interactive tables.';\n",
       "        element.innerHTML = '';\n",
       "        dataTable['output_type'] = 'display_data';\n",
       "        await google.colab.output.renderOutput(dataTable, element);\n",
       "        const docLink = document.createElement('div');\n",
       "        docLink.innerHTML = docLinkHtml;\n",
       "        element.appendChild(docLink);\n",
       "      }\n",
       "    </script>\n",
       "  </div>\n",
       "\n",
       "\n",
       "    <div id=\"df-7f97f910-ab3d-492d-9d07-4bad50b1601a\">\n",
       "      <button class=\"colab-df-quickchart\" onclick=\"quickchart('df-7f97f910-ab3d-492d-9d07-4bad50b1601a')\"\n",
       "                title=\"Suggest charts\"\n",
       "                style=\"display:none;\">\n",
       "\n",
       "<svg xmlns=\"http://www.w3.org/2000/svg\" height=\"24px\"viewBox=\"0 0 24 24\"\n",
       "     width=\"24px\">\n",
       "    <g>\n",
       "        <path d=\"M19 3H5c-1.1 0-2 .9-2 2v14c0 1.1.9 2 2 2h14c1.1 0 2-.9 2-2V5c0-1.1-.9-2-2-2zM9 17H7v-7h2v7zm4 0h-2V7h2v10zm4 0h-2v-4h2v4z\"/>\n",
       "    </g>\n",
       "</svg>\n",
       "      </button>\n",
       "\n",
       "<style>\n",
       "  .colab-df-quickchart {\n",
       "      --bg-color: #E8F0FE;\n",
       "      --fill-color: #1967D2;\n",
       "      --hover-bg-color: #E2EBFA;\n",
       "      --hover-fill-color: #174EA6;\n",
       "      --disabled-fill-color: #AAA;\n",
       "      --disabled-bg-color: #DDD;\n",
       "  }\n",
       "\n",
       "  [theme=dark] .colab-df-quickchart {\n",
       "      --bg-color: #3B4455;\n",
       "      --fill-color: #D2E3FC;\n",
       "      --hover-bg-color: #434B5C;\n",
       "      --hover-fill-color: #FFFFFF;\n",
       "      --disabled-bg-color: #3B4455;\n",
       "      --disabled-fill-color: #666;\n",
       "  }\n",
       "\n",
       "  .colab-df-quickchart {\n",
       "    background-color: var(--bg-color);\n",
       "    border: none;\n",
       "    border-radius: 50%;\n",
       "    cursor: pointer;\n",
       "    display: none;\n",
       "    fill: var(--fill-color);\n",
       "    height: 32px;\n",
       "    padding: 0;\n",
       "    width: 32px;\n",
       "  }\n",
       "\n",
       "  .colab-df-quickchart:hover {\n",
       "    background-color: var(--hover-bg-color);\n",
       "    box-shadow: 0 1px 2px rgba(60, 64, 67, 0.3), 0 1px 3px 1px rgba(60, 64, 67, 0.15);\n",
       "    fill: var(--button-hover-fill-color);\n",
       "  }\n",
       "\n",
       "  .colab-df-quickchart-complete:disabled,\n",
       "  .colab-df-quickchart-complete:disabled:hover {\n",
       "    background-color: var(--disabled-bg-color);\n",
       "    fill: var(--disabled-fill-color);\n",
       "    box-shadow: none;\n",
       "  }\n",
       "\n",
       "  .colab-df-spinner {\n",
       "    border: 2px solid var(--fill-color);\n",
       "    border-color: transparent;\n",
       "    border-bottom-color: var(--fill-color);\n",
       "    animation:\n",
       "      spin 1s steps(1) infinite;\n",
       "  }\n",
       "\n",
       "  @keyframes spin {\n",
       "    0% {\n",
       "      border-color: transparent;\n",
       "      border-bottom-color: var(--fill-color);\n",
       "      border-left-color: var(--fill-color);\n",
       "    }\n",
       "    20% {\n",
       "      border-color: transparent;\n",
       "      border-left-color: var(--fill-color);\n",
       "      border-top-color: var(--fill-color);\n",
       "    }\n",
       "    30% {\n",
       "      border-color: transparent;\n",
       "      border-left-color: var(--fill-color);\n",
       "      border-top-color: var(--fill-color);\n",
       "      border-right-color: var(--fill-color);\n",
       "    }\n",
       "    40% {\n",
       "      border-color: transparent;\n",
       "      border-right-color: var(--fill-color);\n",
       "      border-top-color: var(--fill-color);\n",
       "    }\n",
       "    60% {\n",
       "      border-color: transparent;\n",
       "      border-right-color: var(--fill-color);\n",
       "    }\n",
       "    80% {\n",
       "      border-color: transparent;\n",
       "      border-right-color: var(--fill-color);\n",
       "      border-bottom-color: var(--fill-color);\n",
       "    }\n",
       "    90% {\n",
       "      border-color: transparent;\n",
       "      border-bottom-color: var(--fill-color);\n",
       "    }\n",
       "  }\n",
       "</style>\n",
       "\n",
       "      <script>\n",
       "        async function quickchart(key) {\n",
       "          const quickchartButtonEl =\n",
       "            document.querySelector('#' + key + ' button');\n",
       "          quickchartButtonEl.disabled = true;  // To prevent multiple clicks.\n",
       "          quickchartButtonEl.classList.add('colab-df-spinner');\n",
       "          try {\n",
       "            const charts = await google.colab.kernel.invokeFunction(\n",
       "                'suggestCharts', [key], {});\n",
       "          } catch (error) {\n",
       "            console.error('Error during call to suggestCharts:', error);\n",
       "          }\n",
       "          quickchartButtonEl.classList.remove('colab-df-spinner');\n",
       "          quickchartButtonEl.classList.add('colab-df-quickchart-complete');\n",
       "        }\n",
       "        (() => {\n",
       "          let quickchartButtonEl =\n",
       "            document.querySelector('#df-7f97f910-ab3d-492d-9d07-4bad50b1601a button');\n",
       "          quickchartButtonEl.style.display =\n",
       "            google.colab.kernel.accessAllowed ? 'block' : 'none';\n",
       "        })();\n",
       "      </script>\n",
       "    </div>\n",
       "\n",
       "    </div>\n",
       "  </div>\n"
      ],
      "text/plain": [
       "            4 WEEKS BANK DISCOUNT  6 WEEKS BANK DISCOUNT  \\\n",
       "Date                                                       \n",
       "09/30/2025                   4.05                   4.02   \n",
       "09/29/2025                   4.06                   4.03   \n",
       "09/26/2025                   4.07                   4.03   \n",
       "09/25/2025                   4.08                   4.03   \n",
       "09/24/2025                   4.02                   4.02   \n",
       "\n",
       "            8 WEEKS BANK DISCOUNT  13 WEEKS BANK DISCOUNT  \\\n",
       "Date                                                        \n",
       "09/30/2025                   4.00                    3.86   \n",
       "09/29/2025                   4.00                    3.86   \n",
       "09/26/2025                   4.00                    3.87   \n",
       "09/25/2025                   4.01                    3.89   \n",
       "09/24/2025                   3.98                    3.87   \n",
       "\n",
       "            17 WEEKS BANK DISCOUNT  26 WEEKS BANK DISCOUNT  \\\n",
       "Date                                                         \n",
       "09/30/2025                    3.83                    3.72   \n",
       "09/29/2025                    3.83                    3.73   \n",
       "09/26/2025                    3.83                    3.74   \n",
       "09/25/2025                    3.84                    3.75   \n",
       "09/24/2025                    3.81                    3.72   \n",
       "\n",
       "            52 WEEKS BANK DISCOUNT  \n",
       "Date                                \n",
       "09/30/2025                    3.53  \n",
       "09/29/2025                    3.52  \n",
       "09/26/2025                    3.53  \n",
       "09/25/2025                    3.54  \n",
       "09/24/2025                    3.49  "
      ]
     },
     "execution_count": 11,
     "metadata": {},
     "output_type": "execute_result"
    }
   ],
   "source": [
    "# Create a list called 'desired_columns' using a list comprehension.\n",
    "desired_columns = [column for column in Tbill_data_site.columns if 'BANK' in column]\n",
    "\n",
    "# Create a DataFrame named 'df_bankers_discount'.\n",
    "df_bankers_discount = Tbill_data_site[desired_columns]\n",
    "\n",
    "# Display the first 5 rows of the newly created 'df_bankers_discount' DataFrame.\n",
    "df_bankers_discount[:5]"
   ]
  },
  {
   "cell_type": "code",
   "execution_count": null,
   "metadata": {
    "colab": {
     "base_uri": "https://localhost:8080/"
    },
    "id": "nDzRZgVlqefr",
    "outputId": "33ba7a7a-87d8-45f7-81cc-b6c0636f1b15"
   },
   "outputs": [
    {
     "data": {
      "text/plain": [
       "array([[4.05, 4.02, 4.  , 3.86, 3.83, 3.72, 3.53],\n",
       "       [4.06, 4.03, 4.  , 3.86, 3.83, 3.73, 3.52],\n",
       "       [4.07, 4.03, 4.  , 3.87, 3.83, 3.74, 3.53],\n",
       "       [4.08, 4.03, 4.01, 3.89, 3.84, 3.75, 3.54],\n",
       "       [4.02, 4.02, 3.98, 3.87, 3.81, 3.72, 3.49]])"
      ]
     },
     "execution_count": 12,
     "metadata": {},
     "output_type": "execute_result"
    }
   ],
   "source": [
    "# The .to_numpy() method strips away the pandas Index and column headers,\n",
    "# leaving only the raw data values in a highly efficient array format.\n",
    "bankers_discount=df_bankers_discount.to_numpy()\n",
    "\n",
    "# --- Verification Step: Display the First 5 Rows of the New Array ---\n",
    "# After a data type conversion, it is good practice to inspect the result.\n",
    "bankers_discount[:5]"
   ]
  },
  {
   "cell_type": "markdown",
   "metadata": {
    "id": "0-aH3AAKflUg"
   },
   "source": [
    "### ***Going from Bankers Discounts to Zero Prices***\n"
   ]
  },
  {
   "cell_type": "code",
   "execution_count": null,
   "metadata": {
    "colab": {
     "base_uri": "https://localhost:8080/"
    },
    "id": "fXyYe2DERBN_",
    "outputId": "2a0a18ff-cd9b-4991-f5bc-d365a3859e44"
   },
   "outputs": [
    {
     "data": {
      "text/plain": [
       "array([[0.99685   , 0.99531   , 0.99377778, 0.99024278, 0.98733972,\n",
       "        0.98119333, 0.96430778],\n",
       "       [0.99684222, 0.99529833, 0.99377778, 0.99024278, 0.98733972,\n",
       "        0.98114278, 0.96440889],\n",
       "       [0.99683444, 0.99529833, 0.99377778, 0.9902175 , 0.98733972,\n",
       "        0.98109222, 0.96430778],\n",
       "       [0.99682667, 0.99529833, 0.99376222, 0.99016694, 0.98730667,\n",
       "        0.98104167, 0.96420667],\n",
       "       [0.99687333, 0.99531   , 0.99380889, 0.9902175 , 0.98740583,\n",
       "        0.98119333, 0.96471222]])"
      ]
     },
     "execution_count": 13,
     "metadata": {},
     "output_type": "execute_result"
    }
   ],
   "source": [
    "maturity_days=np.array([4*7,6*7,8*7,13*7,17*7,26*7,52*7]) #Maturity in days calculated\n",
    "#The price formula divides maturity days by 360 to annualize\n",
    "#Then divides by 100 to convert to a bill paying one dollar.\n",
    "zero_prices_one=(100-bankers_discount*maturity_days/360)/100\n",
    "#NumPy performs element by element calculations: a calculation for each\n",
    "#value of maturity_days with the corresponding value of bankers_discount\n",
    "zero_prices_one[:5]   #Display first 5 rows (each row is a trading day for Sept 2025)"
   ]
  },
  {
   "cell_type": "markdown",
   "metadata": {
    "id": "Aq2t-yINfqaq"
   },
   "source": [
    "### ***Spot Rates***"
   ]
  },
  {
   "cell_type": "code",
   "execution_count": null,
   "metadata": {
    "colab": {
     "base_uri": "https://localhost:8080/"
    },
    "id": "_fL08NxQVSyT",
    "outputId": "998212e2-5052-469d-b5c1-027c884c72de"
   },
   "outputs": [
    {
     "data": {
      "text/plain": [
       "array([[0.04112731, 0.04085421, 0.04068225, 0.03932829, 0.03907985,\n",
       "        0.03807584, 0.03644461],\n",
       "       [0.04122902, 0.04095608, 0.04068225, 0.03932829, 0.03907985,\n",
       "        0.03817917, 0.03633948],\n",
       "       [0.04133073, 0.04095608, 0.04068225, 0.03943068, 0.03907985,\n",
       "        0.03828251, 0.03644461],\n",
       "       [0.04143244, 0.04095608, 0.04078428, 0.03963547, 0.03918254,\n",
       "        0.03838586, 0.03654976],\n",
       "       [0.04082219, 0.04085421, 0.04047821, 0.03943068, 0.03887448,\n",
       "        0.03807584, 0.03602413]])"
      ]
     },
     "execution_count": 14,
     "metadata": {},
     "output_type": "execute_result"
    }
   ],
   "source": [
    "spot_rates=-np.log(zero_prices_one)/(maturity_days/365) #Maturity_days divided by 365\n",
    "spot_rates[:5] #Display first 5 rows (last 5 trading days of Sept 2025)"
   ]
  },
  {
   "cell_type": "markdown",
   "metadata": {
    "id": "pn4ZqonsfuIi"
   },
   "source": [
    "### ***Forward Rates***\n"
   ]
  },
  {
   "cell_type": "code",
   "execution_count": null,
   "metadata": {
    "colab": {
     "base_uri": "https://localhost:8080/"
    },
    "id": "5SAy59bWWo4f",
    "outputId": "e9edafaa-e6a8-450a-f10b-fb6998bd6887"
   },
   "outputs": [
    {
     "data": {
      "text/plain": [
       "array([[       nan, 0.04030802, 0.04016638, 0.03716195, 0.03827242,\n",
       "        0.03617937, 0.03481338],\n",
       "       [       nan, 0.0404102 , 0.03986078, 0.03716195, 0.03827242,\n",
       "        0.0364779 , 0.03449978],\n",
       "       [       nan, 0.04020678, 0.03986078, 0.03742816, 0.03793965,\n",
       "        0.03677644, 0.03460671],\n",
       "       [       nan, 0.04000335, 0.04026888, 0.03779737, 0.03771053,\n",
       "        0.03688102, 0.03471366],\n",
       "       [       nan, 0.04091826, 0.03935021, 0.03775464, 0.03706682,\n",
       "        0.0365673 , 0.03397243]])"
      ]
     },
     "execution_count": 15,
     "metadata": {},
     "output_type": "execute_result"
    }
   ],
   "source": [
    "forward_rates=-np.diff(np.log(zero_prices_one))*365/np.diff(maturity_days) #Sign switched\n",
    "forward_rates=np.insert(forward_rates,0,np.nan,axis=1) #NumPy nan inserted for first month\n",
    "forward_rates[:5]"
   ]
  },
  {
   "cell_type": "markdown",
   "metadata": {
    "id": "HyZfwa8Ud90k"
   },
   "source": [
    "### ***Preparing the Notebook***\n"
   ]
  },
  {
   "cell_type": "code",
   "execution_count": null,
   "metadata": {
    "colab": {
     "base_uri": "https://localhost:8080/",
     "height": 131
    },
    "id": "ypgCHYER8rRT",
    "outputId": "f4c068ef-737b-49a1-ce48-c0af2cbfe704"
   },
   "outputs": [
    {
     "data": {
      "text/markdown": [
       "### **✅ Parent Directory.../content/drive/MyDrive**"
      ],
      "text/plain": [
       "<IPython.core.display.Markdown object>"
      ]
     },
     "metadata": {},
     "output_type": "display_data"
    },
    {
     "data": {
      "text/markdown": [
       "###  **❌ No  Folder**"
      ],
      "text/plain": [
       "<IPython.core.display.Markdown object>"
      ]
     },
     "metadata": {},
     "output_type": "display_data"
    },
    {
     "data": {
      "text/markdown": [
       "### **❌ No Subfolder**"
      ],
      "text/plain": [
       "<IPython.core.display.Markdown object>"
      ]
     },
     "metadata": {},
     "output_type": "display_data"
    }
   ],
   "source": [
    "parent,folder,subfolder=parent_folder_subfolder()"
   ]
  },
  {
   "cell_type": "markdown",
   "metadata": {
    "id": "V_PNrFRGfx8A"
   },
   "source": [
    "## ***Graphing the Term Structure***\n",
    "\n",
    "\n",
    "\n"
   ]
  },
  {
   "cell_type": "code",
   "execution_count": null,
   "metadata": {
    "id": "GtE0Z3Mj8gr8"
   },
   "outputs": [],
   "source": [
    "save_config={}\n",
    "\n",
    "'''\n",
    "save_config['Parent']=parent\n",
    "save_config['Folder']=folder\n",
    "save_config['Subfolder']=subfolder\n",
    "save_config['File']='T-Bill Term Structure: 9-15-2022.pdf'\n",
    "'''"
   ]
  },
  {
   "cell_type": "markdown",
   "metadata": {
    "id": "x0OAcxNNf3du"
   },
   "source": [
    "### ***Graphing the Spot and Forward Rates for September 30, 2025***\n",
    "#### The September 2022 T-Bill data had five maturity dates.  The September 2025 data has two additional dates: '6 WEEKS' and '17 WEEKS'. In the following code, the *x*-axis is set at the seven maturities of the bills in months. Forward and spot rates are calculated for the month of September 2025, and the data for September 30, 2025, is plotted.\n",
    "\n",
    "```\n",
    "xaxis=['One','One & Half','Two','Three','Four','Six','Twelve']\n",
    "string_date='09/15/2022'\n",
    "```\n",
    "\n",
    "#### The first row of spot_rates and forward_rates correspond to September 30.The spot- and forward-rate rows for September 30, 2025, are then multiplied by 100 and assigned to the list <font color='green'>data</font>.\n",
    "```\n",
    "data=[spot_rates[0]*100,forward_rates[0]*100]\n",
    "```\n",
    "\n",
    "#### The plot title is assigned whatever value is assigned to <font color='green'>save_config['File Name']</font> (minus the PDF extension).\n",
    "```\n",
    "try:                    \n",
    "  title = os.path.splitext(save_config['File'])              \n",
    "except:\n",
    "  title='September 30, 2025'\n",
    "```\n",
    "#### Series names, labels, and markers are then assigned.\n",
    "\n",
    "```\n",
    "series = ['Spot Rate', 'Forward Rate']\n",
    "ylabel = 'Continuous Compounded Annualized % Rates'\n",
    "xlabel = 'Maturity In Months'\n",
    "x = len(data)\n",
    "markers = ['<','>']*round(x/2+x%2+0.001)\n",
    "```\n",
    "\n",
    "#### The upper limit of the *y*-axis is assigned to <font color='green'>upper</font> and calculated from the maximum value of the spot and forward rates. The NumPy method <font color='green'>nanmax()</font> ignores <font color='green'>nan</font> values. The maximum of <font color='green'>nanmax()</font> of spot rates (<font color='green'>data[0]</font>) and forward rates (<font color='green'>data[1]</font>) plus 0.5% are assigned to <font color='green'>upper </font>. The lower limit is set to 0, and the size and colors of the lines are set as 10 inches wide and 6 inches tall (10,6) and red and blue, respectively.\n",
    "\n",
    "\n",
    "\n",
    "```\n",
    "lower = 0\n",
    "upper = max(np.nanmax(data[0]), np.nanmax(data[1])) + 0.5\n",
    "ylim = [lower, upper]\n",
    "size = (10, 6)\n",
    "colors=['r','b']\n",
    "```\n",
    "#### Finally, the graph is generated and saved with <font color='green'>one_y_axis()</font> (see **Figure 3**).\n",
    "\n",
    "```\n",
    "one_y_axis(xaxis, data, title, series, xlabel, ylabel, markers, size, ylim,\n",
    "           save_config=save_config,colors=colors)\n",
    "```\n"
   ]
  },
  {
   "cell_type": "code",
   "execution_count": null,
   "metadata": {
    "colab": {
     "base_uri": "https://localhost:8080/",
     "height": 610
    },
    "id": "i0QMyzi6rRv8",
    "outputId": "da8c2e88-d914-4292-8dac-cd45fd447eca"
   },
   "outputs": [
    {
     "data": {
      "image/png": "[encoded data removed]",
      "text/plain": [
       "<Figure size 1000x600 with 1 Axes>"
      ]
     },
     "metadata": {},
     "output_type": "display_data"
    }
   ],
   "source": [
    "# Define the labels for the x-axis, representing different maturities.\n",
    "xaxis = ['One','One & Half', 'Two', 'Three','Four', 'Six', 'Twelve']\n",
    "\n",
    "# Define the specific date for which the term structure will be plotted.\n",
    "string_date = '09/30/2022'\n",
    "\n",
    "\n",
    "# Prepare the data to be plotted on the y-axis (as %).\n",
    "data = [spot_rates[0]*100, forward_rates[0]*100]\n",
    "\n",
    "# Attempt to extract the plot title from the file name.\n",
    "try:\n",
    "    title = os.path.splitext(save_config['File'])[0]\n",
    "#'File Name' key not found or string is too short), set a default title.\n",
    "except:\n",
    "    title = 'September 30, 2025'\n",
    "\n",
    "# Define the names for the data series that will appear in the plot's legend.\n",
    "series = ['Spot Rate', 'Forward Rate']\n",
    "\n",
    "# Define the label for the y-axis.\n",
    "ylabel = 'Continuous Compounded Annualized % Rates'\n",
    "\n",
    "# Define the label for the x-axis.\n",
    "xlabel = 'Maturity In Months'\n",
    "\n",
    "#'data' contains two series (spot and forward rates).\n",
    "x = len(data)\n",
    "\n",
    "# Define markers for the plot.\n",
    "markers = ['<','>']*round(x/2+x%2+0.001)\n",
    "\n",
    "# Define the lower bound for the y-axis.\n",
    "lower = 0\n",
    "\n",
    "# Define the upper bound for the y-axis.\n",
    "# considering NaN values (not a number) and adds a small buffer (0.5) for padding.\n",
    "upper = max(np.nanmax(data[0]), np.nanmax(data[1])) + 0.5\n",
    "\n",
    "# Define the y-axis limits (minimum and maximum values).\n",
    "ylim = [lower, upper]\n",
    "\n",
    "# Define the size of the plot (width, height) in inches.\n",
    "size = (10, 6)\n",
    "# Define colors as red and blue\n",
    "colors=['r','b']\n",
    "# This function generates and possibly saves a plot.\n",
    "one_y_axis(xaxis, data, title, series, xlabel, ylabel, markers, size, ylim,\n",
    "           save_config=save_config,colors=colors)"
   ]
  },
  {
   "cell_type": "markdown",
   "metadata": {
    "id": "PAP3mjYGf9rB"
   },
   "source": [
    "### ***Python, Pandas, NumPy And Financial Insights***\n",
    "#### Using Pandas and NumPy, the term structure of interest rates was calculated for September 15$^{th}$ 2022, and September 30$^{th}$ 2025. These term structures reveal an economy in transition. On September 15$^{th}$ 2022, rates were increasing with maturity and expected to continue rising. By September 30$^{th}$ 2025 the pattern had shifted. Although the overall level of rates was higher on September 30$^{th}$ 2025, the term structure showed a slight downward slope. These differences indicate two different economic states: inflation was expected to increase in September 2022 but not  in September 2025. The ability to calibrate the term structure of interest rates in this way highlights the utility of Python and its rich ecosystem of libraries."
   ]
  },
  {
   "cell_type": "markdown",
   "metadata": {
    "id": "kzMRAiykgATH"
   },
   "source": [
    "### ***Summarizing Key Points***\n",
    "\n",
    "*   ***The present value function describes all bonds as a portfolio of zero-coupon bonds.***\n",
    "*   ***Data was accessed directly from the Treasury as a CSV file and assigned to a Pandas Dataframe.***\n",
    "*   ***The term structure of interest rates describes the behavior of spot and forward interest rates.***\n",
    "*   ***The term structure of interest rates was calculated with T-bills for September 2022.***\n",
    "*   ***The term structure was graphed for September 15, 2022 and September 30, 2025.***\n",
    "\n"
   ]
  },
  {
   "cell_type": "markdown",
   "metadata": {
    "id": "IPAJxQ34vpRG"
   },
   "source": [
    "\n",
    "\n",
    "# ***<font color='blue'>Exercise:  Using the September 12, 2024, data***</font>\n",
    "\n",
    "\n",
    "1. ### <font color='blue'>***Calculate spot and forward rates.***</font>\n",
    "2. ### <font color='blue'>***Plot the spot and forward rates.***</font>\n",
    "\n",
    "[***Hints***](https://patrickjhess.github.io/Hints-Results/Chapter_One_Hints.html#chapter-one-exercise)\n",
    "\n",
    "[***Expected Results***](https://patrickjhess.github.io/Hints-Results/Chapter_One_Results.html#chapter-one-exercise)\n"
   ]
  }
 ],
 "metadata": {
  "colab": {
   "provenance": [],
   "toc_visible": true
  },
  "kernelspec": {
   "display_name": "Python 3",
   "name": "python3"
  },
  "language_info": {
   "codemirror_mode": {
    "name": "ipython",
    "version": 3
   },
   "file_extension": ".py",
   "mimetype": "text/x-python",
   "name": "python",
   "nbconvert_exporter": "python",
   "pygments_lexer": "ipython3",
   "version": "3.9.7"
  }
 },
 "nbformat": 4,
 "nbformat_minor": 0
}